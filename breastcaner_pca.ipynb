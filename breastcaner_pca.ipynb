{
  "nbformat": 4,
  "nbformat_minor": 0,
  "metadata": {
    "colab": {
      "name": "breastcaner-pca.ipynb",
      "provenance": [],
      "authorship_tag": "ABX9TyMUB9YHhGAr/JH2m6QRn33I",
      "include_colab_link": true
    },
    "kernelspec": {
      "name": "python3",
      "display_name": "Python 3"
    },
    "language_info": {
      "name": "python"
    },
    "accelerator": "GPU"
  },
  "cells": [
    {
      "cell_type": "markdown",
      "metadata": {
        "id": "view-in-github",
        "colab_type": "text"
      },
      "source": [
        "<a href=\"https://colab.research.google.com/github/ShilpaItnal23/breast-cancer-pca/blob/main/breastcaner_pca.ipynb\" target=\"_parent\"><img src=\"https://colab.research.google.com/assets/colab-badge.svg\" alt=\"Open In Colab\"/></a>"
      ]
    },
    {
      "cell_type": "code",
      "metadata": {
        "id": "uXoWCSRtWSTl"
      },
      "source": [
        "import numpy as np\n",
        "import pandas as pd\n",
        "import seaborn as sns\n",
        "import matplotlib.pyplot as plt\n",
        "%matplotlib inline"
      ],
      "execution_count": null,
      "outputs": []
    },
    {
      "cell_type": "code",
      "metadata": {
        "id": "0QY25bkXWS-o"
      },
      "source": [
        "from sklearn.preprocessing import StandardScaler\n",
        "from sklearn.decomposition import PCA\n",
        "from sklearn.datasets import load_breast_cancer"
      ],
      "execution_count": null,
      "outputs": []
    },
    {
      "cell_type": "code",
      "metadata": {
        "id": "q00YszSuWXCH"
      },
      "source": [
        "# load dataset\n",
        "breast_cancer = load_breast_cancer()"
      ],
      "execution_count": null,
      "outputs": []
    },
    {
      "cell_type": "code",
      "metadata": {
        "colab": {
          "base_uri": "https://localhost:8080/"
        },
        "id": "OWzICrIIWawg",
        "outputId": "378701ea-4170-4ed3-9f2e-6a3ab47683c8"
      },
      "source": [
        "type(breast_cancer)"
      ],
      "execution_count": null,
      "outputs": [
        {
          "output_type": "execute_result",
          "data": {
            "text/plain": [
              "sklearn.utils.Bunch"
            ]
          },
          "metadata": {
            "tags": []
          },
          "execution_count": 4
        }
      ]
    },
    {
      "cell_type": "code",
      "metadata": {
        "colab": {
          "base_uri": "https://localhost:8080/"
        },
        "id": "0TMekW3sWgIF",
        "outputId": "ca9613bf-4cb5-4222-c402-3b336dbf9ecb"
      },
      "source": [
        "print(breast_cancer.DESCR)"
      ],
      "execution_count": null,
      "outputs": [
        {
          "output_type": "stream",
          "text": [
            ".. _breast_cancer_dataset:\n",
            "\n",
            "Breast cancer wisconsin (diagnostic) dataset\n",
            "--------------------------------------------\n",
            "\n",
            "**Data Set Characteristics:**\n",
            "\n",
            "    :Number of Instances: 569\n",
            "\n",
            "    :Number of Attributes: 30 numeric, predictive attributes and the class\n",
            "\n",
            "    :Attribute Information:\n",
            "        - radius (mean of distances from center to points on the perimeter)\n",
            "        - texture (standard deviation of gray-scale values)\n",
            "        - perimeter\n",
            "        - area\n",
            "        - smoothness (local variation in radius lengths)\n",
            "        - compactness (perimeter^2 / area - 1.0)\n",
            "        - concavity (severity of concave portions of the contour)\n",
            "        - concave points (number of concave portions of the contour)\n",
            "        - symmetry \n",
            "        - fractal dimension (\"coastline approximation\" - 1)\n",
            "\n",
            "        The mean, standard error, and \"worst\" or largest (mean of the three\n",
            "        largest values) of these features were computed for each image,\n",
            "        resulting in 30 features.  For instance, field 3 is Mean Radius, field\n",
            "        13 is Radius SE, field 23 is Worst Radius.\n",
            "\n",
            "        - class:\n",
            "                - WDBC-Malignant\n",
            "                - WDBC-Benign\n",
            "\n",
            "    :Summary Statistics:\n",
            "\n",
            "    ===================================== ====== ======\n",
            "                                           Min    Max\n",
            "    ===================================== ====== ======\n",
            "    radius (mean):                        6.981  28.11\n",
            "    texture (mean):                       9.71   39.28\n",
            "    perimeter (mean):                     43.79  188.5\n",
            "    area (mean):                          143.5  2501.0\n",
            "    smoothness (mean):                    0.053  0.163\n",
            "    compactness (mean):                   0.019  0.345\n",
            "    concavity (mean):                     0.0    0.427\n",
            "    concave points (mean):                0.0    0.201\n",
            "    symmetry (mean):                      0.106  0.304\n",
            "    fractal dimension (mean):             0.05   0.097\n",
            "    radius (standard error):              0.112  2.873\n",
            "    texture (standard error):             0.36   4.885\n",
            "    perimeter (standard error):           0.757  21.98\n",
            "    area (standard error):                6.802  542.2\n",
            "    smoothness (standard error):          0.002  0.031\n",
            "    compactness (standard error):         0.002  0.135\n",
            "    concavity (standard error):           0.0    0.396\n",
            "    concave points (standard error):      0.0    0.053\n",
            "    symmetry (standard error):            0.008  0.079\n",
            "    fractal dimension (standard error):   0.001  0.03\n",
            "    radius (worst):                       7.93   36.04\n",
            "    texture (worst):                      12.02  49.54\n",
            "    perimeter (worst):                    50.41  251.2\n",
            "    area (worst):                         185.2  4254.0\n",
            "    smoothness (worst):                   0.071  0.223\n",
            "    compactness (worst):                  0.027  1.058\n",
            "    concavity (worst):                    0.0    1.252\n",
            "    concave points (worst):               0.0    0.291\n",
            "    symmetry (worst):                     0.156  0.664\n",
            "    fractal dimension (worst):            0.055  0.208\n",
            "    ===================================== ====== ======\n",
            "\n",
            "    :Missing Attribute Values: None\n",
            "\n",
            "    :Class Distribution: 212 - Malignant, 357 - Benign\n",
            "\n",
            "    :Creator:  Dr. William H. Wolberg, W. Nick Street, Olvi L. Mangasarian\n",
            "\n",
            "    :Donor: Nick Street\n",
            "\n",
            "    :Date: November, 1995\n",
            "\n",
            "This is a copy of UCI ML Breast Cancer Wisconsin (Diagnostic) datasets.\n",
            "https://goo.gl/U2Uwz2\n",
            "\n",
            "Features are computed from a digitized image of a fine needle\n",
            "aspirate (FNA) of a breast mass.  They describe\n",
            "characteristics of the cell nuclei present in the image.\n",
            "\n",
            "Separating plane described above was obtained using\n",
            "Multisurface Method-Tree (MSM-T) [K. P. Bennett, \"Decision Tree\n",
            "Construction Via Linear Programming.\" Proceedings of the 4th\n",
            "Midwest Artificial Intelligence and Cognitive Science Society,\n",
            "pp. 97-101, 1992], a classification method which uses linear\n",
            "programming to construct a decision tree.  Relevant features\n",
            "were selected using an exhaustive search in the space of 1-4\n",
            "features and 1-3 separating planes.\n",
            "\n",
            "The actual linear program used to obtain the separating plane\n",
            "in the 3-dimensional space is that described in:\n",
            "[K. P. Bennett and O. L. Mangasarian: \"Robust Linear\n",
            "Programming Discrimination of Two Linearly Inseparable Sets\",\n",
            "Optimization Methods and Software 1, 1992, 23-34].\n",
            "\n",
            "This database is also available through the UW CS ftp server:\n",
            "\n",
            "ftp ftp.cs.wisc.edu\n",
            "cd math-prog/cpo-dataset/machine-learn/WDBC/\n",
            "\n",
            ".. topic:: References\n",
            "\n",
            "   - W.N. Street, W.H. Wolberg and O.L. Mangasarian. Nuclear feature extraction \n",
            "     for breast tumor diagnosis. IS&T/SPIE 1993 International Symposium on \n",
            "     Electronic Imaging: Science and Technology, volume 1905, pages 861-870,\n",
            "     San Jose, CA, 1993.\n",
            "   - O.L. Mangasarian, W.N. Street and W.H. Wolberg. Breast cancer diagnosis and \n",
            "     prognosis via linear programming. Operations Research, 43(4), pages 570-577, \n",
            "     July-August 1995.\n",
            "   - W.H. Wolberg, W.N. Street, and O.L. Mangasarian. Machine learning techniques\n",
            "     to diagnose breast cancer from fine-needle aspirates. Cancer Letters 77 (1994) \n",
            "     163-171.\n"
          ],
          "name": "stdout"
        }
      ]
    },
    {
      "cell_type": "code",
      "metadata": {
        "colab": {
          "base_uri": "https://localhost:8080/"
        },
        "id": "SMw9My3XWj9o",
        "outputId": "1fe3a02a-0732-4088-d88f-2fea792460de"
      },
      "source": [
        "breast_cancer.data.shape"
      ],
      "execution_count": null,
      "outputs": [
        {
          "output_type": "execute_result",
          "data": {
            "text/plain": [
              "(569, 30)"
            ]
          },
          "metadata": {
            "tags": []
          },
          "execution_count": 6
        }
      ]
    },
    {
      "cell_type": "code",
      "metadata": {
        "colab": {
          "base_uri": "https://localhost:8080/"
        },
        "id": "IZLXHbuiXC6J",
        "outputId": "a1194ff9-7d32-4cbc-8eb9-1f2671cd9057"
      },
      "source": [
        "breast_cancer.target.shape\n"
      ],
      "execution_count": null,
      "outputs": [
        {
          "output_type": "execute_result",
          "data": {
            "text/plain": [
              "(569,)"
            ]
          },
          "metadata": {
            "tags": []
          },
          "execution_count": 7
        }
      ]
    },
    {
      "cell_type": "code",
      "metadata": {
        "id": "dYexXJMTXTKM"
      },
      "source": [
        "X=breast_cancer.data\n",
        "y=breast_cancer.target"
      ],
      "execution_count": null,
      "outputs": []
    },
    {
      "cell_type": "code",
      "metadata": {
        "colab": {
          "base_uri": "https://localhost:8080/"
        },
        "id": "Qt19G-HDX5C0",
        "outputId": "798b9f73-c4e7-4b88-ef99-f6f235c991da"
      },
      "source": [
        "X"
      ],
      "execution_count": null,
      "outputs": [
        {
          "output_type": "execute_result",
          "data": {
            "text/plain": [
              "array([[1.799e+01, 1.038e+01, 1.228e+02, ..., 2.654e-01, 4.601e-01,\n",
              "        1.189e-01],\n",
              "       [2.057e+01, 1.777e+01, 1.329e+02, ..., 1.860e-01, 2.750e-01,\n",
              "        8.902e-02],\n",
              "       [1.969e+01, 2.125e+01, 1.300e+02, ..., 2.430e-01, 3.613e-01,\n",
              "        8.758e-02],\n",
              "       ...,\n",
              "       [1.660e+01, 2.808e+01, 1.083e+02, ..., 1.418e-01, 2.218e-01,\n",
              "        7.820e-02],\n",
              "       [2.060e+01, 2.933e+01, 1.401e+02, ..., 2.650e-01, 4.087e-01,\n",
              "        1.240e-01],\n",
              "       [7.760e+00, 2.454e+01, 4.792e+01, ..., 0.000e+00, 2.871e-01,\n",
              "        7.039e-02]])"
            ]
          },
          "metadata": {
            "tags": []
          },
          "execution_count": 11
        }
      ]
    },
    {
      "cell_type": "code",
      "metadata": {
        "colab": {
          "base_uri": "https://localhost:8080/"
        },
        "id": "9GATY0heX5uj",
        "outputId": "d4be9983-e28b-42b0-c5e0-cf611d141a74"
      },
      "source": [
        "y"
      ],
      "execution_count": null,
      "outputs": [
        {
          "output_type": "execute_result",
          "data": {
            "text/plain": [
              "array([0, 0, 0, 0, 0, 0, 0, 0, 0, 0, 0, 0, 0, 0, 0, 0, 0, 0, 0, 1, 1, 1,\n",
              "       0, 0, 0, 0, 0, 0, 0, 0, 0, 0, 0, 0, 0, 0, 0, 1, 0, 0, 0, 0, 0, 0,\n",
              "       0, 0, 1, 0, 1, 1, 1, 1, 1, 0, 0, 1, 0, 0, 1, 1, 1, 1, 0, 1, 0, 0,\n",
              "       1, 1, 1, 1, 0, 1, 0, 0, 1, 0, 1, 0, 0, 1, 1, 1, 0, 0, 1, 0, 0, 0,\n",
              "       1, 1, 1, 0, 1, 1, 0, 0, 1, 1, 1, 0, 0, 1, 1, 1, 1, 0, 1, 1, 0, 1,\n",
              "       1, 1, 1, 1, 1, 1, 1, 0, 0, 0, 1, 0, 0, 1, 1, 1, 0, 0, 1, 0, 1, 0,\n",
              "       0, 1, 0, 0, 1, 1, 0, 1, 1, 0, 1, 1, 1, 1, 0, 1, 1, 1, 1, 1, 1, 1,\n",
              "       1, 1, 0, 1, 1, 1, 1, 0, 0, 1, 0, 1, 1, 0, 0, 1, 1, 0, 0, 1, 1, 1,\n",
              "       1, 0, 1, 1, 0, 0, 0, 1, 0, 1, 0, 1, 1, 1, 0, 1, 1, 0, 0, 1, 0, 0,\n",
              "       0, 0, 1, 0, 0, 0, 1, 0, 1, 0, 1, 1, 0, 1, 0, 0, 0, 0, 1, 1, 0, 0,\n",
              "       1, 1, 1, 0, 1, 1, 1, 1, 1, 0, 0, 1, 1, 0, 1, 1, 0, 0, 1, 0, 1, 1,\n",
              "       1, 1, 0, 1, 1, 1, 1, 1, 0, 1, 0, 0, 0, 0, 0, 0, 0, 0, 0, 0, 0, 0,\n",
              "       0, 0, 1, 1, 1, 1, 1, 1, 0, 1, 0, 1, 1, 0, 1, 1, 0, 1, 0, 0, 1, 1,\n",
              "       1, 1, 1, 1, 1, 1, 1, 1, 1, 1, 1, 0, 1, 1, 0, 1, 0, 1, 1, 1, 1, 1,\n",
              "       1, 1, 1, 1, 1, 1, 1, 1, 1, 0, 1, 1, 1, 0, 1, 0, 1, 1, 1, 1, 0, 0,\n",
              "       0, 1, 1, 1, 1, 0, 1, 0, 1, 0, 1, 1, 1, 0, 1, 1, 1, 1, 1, 1, 1, 0,\n",
              "       0, 0, 1, 1, 1, 1, 1, 1, 1, 1, 1, 1, 1, 0, 0, 1, 0, 0, 0, 1, 0, 0,\n",
              "       1, 1, 1, 1, 1, 0, 1, 1, 1, 1, 1, 0, 1, 1, 1, 0, 1, 1, 0, 0, 1, 1,\n",
              "       1, 1, 1, 1, 0, 1, 1, 1, 1, 1, 1, 1, 0, 1, 1, 1, 1, 1, 0, 1, 1, 0,\n",
              "       1, 1, 1, 1, 1, 1, 1, 1, 1, 1, 1, 1, 0, 1, 0, 0, 1, 0, 1, 1, 1, 1,\n",
              "       1, 0, 1, 1, 0, 1, 0, 1, 1, 0, 1, 0, 1, 1, 1, 1, 1, 1, 1, 1, 0, 0,\n",
              "       1, 1, 1, 1, 1, 1, 0, 1, 1, 1, 1, 1, 1, 1, 1, 1, 1, 0, 1, 1, 1, 1,\n",
              "       1, 1, 1, 0, 1, 0, 1, 1, 0, 1, 1, 1, 1, 1, 0, 0, 1, 0, 1, 0, 1, 1,\n",
              "       1, 1, 1, 0, 1, 1, 0, 1, 0, 1, 0, 0, 1, 1, 1, 0, 1, 1, 1, 1, 1, 1,\n",
              "       1, 1, 1, 1, 1, 0, 1, 0, 0, 1, 1, 1, 1, 1, 1, 1, 1, 1, 1, 1, 1, 1,\n",
              "       1, 1, 1, 1, 1, 1, 1, 1, 1, 1, 1, 1, 0, 0, 0, 0, 0, 0, 1])"
            ]
          },
          "metadata": {
            "tags": []
          },
          "execution_count": 12
        }
      ]
    },
    {
      "cell_type": "code",
      "metadata": {
        "id": "2pZvVvy3X7hi"
      },
      "source": [
        "from sklearn.model_selection import train_test_split\n",
        "X_train, X_test, y_train, y_test = train_test_split(X,y,test_size =0.2,random_state = 42)"
      ],
      "execution_count": null,
      "outputs": []
    },
    {
      "cell_type": "code",
      "metadata": {
        "colab": {
          "base_uri": "https://localhost:8080/"
        },
        "id": "mM9tRhhIYa-A",
        "outputId": "e70b3c6f-bf41-491d-d5e6-cad47697465c"
      },
      "source": [
        "print(X_train.shape)\n",
        "print(X_test.shape)\n",
        "print(y_train.shape)\n",
        "print(y_train.shape)\n"
      ],
      "execution_count": null,
      "outputs": [
        {
          "output_type": "stream",
          "text": [
            "(455, 30)\n",
            "(114, 30)\n",
            "(455,)\n",
            "(455,)\n"
          ],
          "name": "stdout"
        }
      ]
    },
    {
      "cell_type": "code",
      "metadata": {
        "id": "lWDv1L2aYmTC"
      },
      "source": [
        "from sklearn.neighbors import KNeighborsClassifier"
      ],
      "execution_count": null,
      "outputs": []
    },
    {
      "cell_type": "code",
      "metadata": {
        "id": "OSOGQ_PTZSN3"
      },
      "source": [
        "knn = KNeighborsClassifier()"
      ],
      "execution_count": null,
      "outputs": []
    },
    {
      "cell_type": "code",
      "metadata": {
        "colab": {
          "base_uri": "https://localhost:8080/"
        },
        "id": "D9KYw5WuZXkZ",
        "outputId": "0b10bca3-3470-4087-9491-6d0ce5969e54"
      },
      "source": [
        "knn.fit(X_train,y_train)"
      ],
      "execution_count": null,
      "outputs": [
        {
          "output_type": "execute_result",
          "data": {
            "text/plain": [
              "KNeighborsClassifier(algorithm='auto', leaf_size=30, metric='minkowski',\n",
              "                     metric_params=None, n_jobs=None, n_neighbors=5, p=2,\n",
              "                     weights='uniform')"
            ]
          },
          "metadata": {
            "tags": []
          },
          "execution_count": 17
        }
      ]
    },
    {
      "cell_type": "code",
      "metadata": {
        "colab": {
          "base_uri": "https://localhost:8080/"
        },
        "id": "WYoUlQHvZfV7",
        "outputId": "7ee60373-6565-4f7c-a5b0-a3d143201109"
      },
      "source": [
        "import time\n",
        "start = time.time()\n",
        "y_pred = knn.predict(X_test)\n",
        "print(time.time()-start)"
      ],
      "execution_count": null,
      "outputs": [
        {
          "output_type": "stream",
          "text": [
            "0.010850667953491211\n"
          ],
          "name": "stdout"
        }
      ]
    },
    {
      "cell_type": "code",
      "metadata": {
        "id": "jHDfK4F2b83_"
      },
      "source": [
        "from sklearn.preprocessing import StandardScaler\n",
        "scaler = StandardScaler()"
      ],
      "execution_count": null,
      "outputs": []
    },
    {
      "cell_type": "code",
      "metadata": {
        "id": "ndhFjk9seCcY"
      },
      "source": [
        "X_train = scaler.fit_transform(X_train)"
      ],
      "execution_count": null,
      "outputs": []
    },
    {
      "cell_type": "code",
      "metadata": {
        "id": "BObsSUrOhjaI"
      },
      "source": [
        "X_test = scaler.transform(X_test)"
      ],
      "execution_count": null,
      "outputs": []
    },
    {
      "cell_type": "code",
      "metadata": {
        "id": "tfQNep3yhoiI"
      },
      "source": [
        "from sklearn.decomposition import PCA\n",
        "pca= PCA(n_components = None)"
      ],
      "execution_count": null,
      "outputs": []
    },
    {
      "cell_type": "code",
      "metadata": {
        "id": "yuV9OU0Nhz8O"
      },
      "source": [
        "X_train = pca.fit_transform(X_train)\n",
        "X_test = pca.transform(X_test)"
      ],
      "execution_count": null,
      "outputs": []
    },
    {
      "cell_type": "code",
      "metadata": {
        "colab": {
          "base_uri": "https://localhost:8080/"
        },
        "id": "g5Y-FuTwiHiY",
        "outputId": "a25adef2-b2f7-4e92-beee-f7745f74f339"
      },
      "source": [
        "X_train.shape"
      ],
      "execution_count": null,
      "outputs": [
        {
          "output_type": "execute_result",
          "data": {
            "text/plain": [
              "(455, 30)"
            ]
          },
          "metadata": {
            "tags": []
          },
          "execution_count": 24
        }
      ]
    },
    {
      "cell_type": "code",
      "metadata": {
        "id": "FX6rKNSXwagA"
      },
      "source": [
        "knn = KNeighborsClassifier()"
      ],
      "execution_count": null,
      "outputs": []
    },
    {
      "cell_type": "code",
      "metadata": {
        "colab": {
          "base_uri": "https://localhost:8080/"
        },
        "id": "0ahphz48wa2N",
        "outputId": "c091c6f9-7984-4f09-9f52-e3a6a5e69bd2"
      },
      "source": [
        "knn.fit(X_train,y_train)"
      ],
      "execution_count": null,
      "outputs": [
        {
          "output_type": "execute_result",
          "data": {
            "text/plain": [
              "KNeighborsClassifier(algorithm='auto', leaf_size=30, metric='minkowski',\n",
              "                     metric_params=None, n_jobs=None, n_neighbors=5, p=2,\n",
              "                     weights='uniform')"
            ]
          },
          "metadata": {
            "tags": []
          },
          "execution_count": 26
        }
      ]
    },
    {
      "cell_type": "code",
      "metadata": {
        "id": "l2NVd5ZsxatY"
      },
      "source": [
        "y_pred = knn.predict(X_test)"
      ],
      "execution_count": null,
      "outputs": []
    },
    {
      "cell_type": "code",
      "metadata": {
        "colab": {
          "base_uri": "https://localhost:8080/"
        },
        "id": "_hsRbVugxn0o",
        "outputId": "e920da8a-3305-4042-febb-f9a6bd6542c8"
      },
      "source": [
        "from sklearn.metrics import accuracy_score\n",
        "print(accuracy_score(y_test,y_pred))"
      ],
      "execution_count": null,
      "outputs": [
        {
          "output_type": "stream",
          "text": [
            "0.9473684210526315\n"
          ],
          "name": "stdout"
        }
      ]
    },
    {
      "cell_type": "code",
      "metadata": {
        "id": "4YCmPgorupKZ"
      },
      "source": [
        "from sklearn.decomposition import PCA\n",
        "pca= PCA(n_components = 10)"
      ],
      "execution_count": null,
      "outputs": []
    },
    {
      "cell_type": "code",
      "metadata": {
        "id": "hMLCvyecvVJv"
      },
      "source": [
        "X_train_trf = pca.fit_transform(X_train)\n",
        "X_test_trf = pca.transform(X_test)"
      ],
      "execution_count": null,
      "outputs": []
    },
    {
      "cell_type": "code",
      "metadata": {
        "colab": {
          "base_uri": "https://localhost:8080/"
        },
        "id": "uKbiWkSQvfiu",
        "outputId": "7ea95197-b4d6-4a20-c28d-ee16b4ecab09"
      },
      "source": [
        "X_train_trf.shape"
      ],
      "execution_count": null,
      "outputs": [
        {
          "output_type": "execute_result",
          "data": {
            "text/plain": [
              "(455, 10)"
            ]
          },
          "metadata": {
            "tags": []
          },
          "execution_count": 57
        }
      ]
    },
    {
      "cell_type": "code",
      "metadata": {
        "id": "GD9XTFz8v_Zh"
      },
      "source": [
        "knn = KNeighborsClassifier()"
      ],
      "execution_count": null,
      "outputs": []
    },
    {
      "cell_type": "code",
      "metadata": {
        "colab": {
          "base_uri": "https://localhost:8080/"
        },
        "id": "FpRpQujew1fO",
        "outputId": "90d9c909-4601-4e41-fddb-7c26acb34a64"
      },
      "source": [
        "knn.fit(X_train_trf,y_train)"
      ],
      "execution_count": null,
      "outputs": [
        {
          "output_type": "execute_result",
          "data": {
            "text/plain": [
              "KNeighborsClassifier(algorithm='auto', leaf_size=30, metric='minkowski',\n",
              "                     metric_params=None, n_jobs=None, n_neighbors=5, p=2,\n",
              "                     weights='uniform')"
            ]
          },
          "metadata": {
            "tags": []
          },
          "execution_count": 59
        }
      ]
    },
    {
      "cell_type": "code",
      "metadata": {
        "id": "dnKcGGIEwEjl"
      },
      "source": [
        "y_pred = knn.predict(X_test_trf)"
      ],
      "execution_count": null,
      "outputs": []
    },
    {
      "cell_type": "code",
      "metadata": {
        "colab": {
          "base_uri": "https://localhost:8080/"
        },
        "id": "XencILrhwSuN",
        "outputId": "95ac0ec3-93ff-4ce4-ae49-5b2f83910cdc"
      },
      "source": [
        "from sklearn.metrics import accuracy_score\n",
        "accuracy_score(y_test,y_pred)"
      ],
      "execution_count": null,
      "outputs": [
        {
          "output_type": "execute_result",
          "data": {
            "text/plain": [
              "0.956140350877193"
            ]
          },
          "metadata": {
            "tags": []
          },
          "execution_count": 61
        }
      ]
    },
    {
      "cell_type": "code",
      "metadata": {
        "colab": {
          "base_uri": "https://localhost:8080/"
        },
        "id": "qjZI1ao0w_iF",
        "outputId": "901d5103-2ce5-436c-b0d0-bb3b357eff00"
      },
      "source": [
        "for i in range(1, 31):\n",
        "  pca = PCA(n_components=i)\n",
        "  X_train_trf = pca.fit_transform(X_train)\n",
        "  X_test_trf = pca.transform(X_test)\n",
        "  \n",
        "  knn = KNeighborsClassifier()\n",
        "\n",
        "  knn.fit(X_train_trf,y_train)\n",
        "  y_pred = knn.predict(X_test_trf)\n",
        "  print(accuracy_score(y_test,y_pred))\n",
        "\n"
      ],
      "execution_count": null,
      "outputs": [
        {
          "output_type": "stream",
          "text": [
            "0.9473684210526315\n",
            "0.9736842105263158\n",
            "0.9210526315789473\n",
            "0.9385964912280702\n",
            "0.956140350877193\n",
            "0.9473684210526315\n",
            "0.9473684210526315\n",
            "0.956140350877193\n",
            "0.956140350877193\n",
            "0.956140350877193\n",
            "0.956140350877193\n",
            "0.956140350877193\n",
            "0.956140350877193\n",
            "0.956140350877193\n",
            "0.9473684210526315\n",
            "0.956140350877193\n",
            "0.9473684210526315\n",
            "0.9473684210526315\n",
            "0.9473684210526315\n",
            "0.9473684210526315\n",
            "0.9473684210526315\n",
            "0.9473684210526315\n",
            "0.9473684210526315\n",
            "0.9473684210526315\n",
            "0.9473684210526315\n",
            "0.9473684210526315\n",
            "0.9473684210526315\n",
            "0.9473684210526315\n",
            "0.9473684210526315\n",
            "0.9473684210526315\n"
          ],
          "name": "stdout"
        }
      ]
    },
    {
      "cell_type": "code",
      "metadata": {
        "id": "FmX2eBEBzcCR"
      },
      "source": [
        "# transforming to a 2D coordinate system"
      ],
      "execution_count": null,
      "outputs": []
    },
    {
      "cell_type": "code",
      "metadata": {
        "id": "WXjOA_E00Pbg"
      },
      "source": [
        "pca = PCA(n_components= 2)\n",
        "X_train_trf = pca.fit_transform(X_train)\n",
        "X_test_trf = pca.transform(X_test)"
      ],
      "execution_count": null,
      "outputs": []
    },
    {
      "cell_type": "code",
      "metadata": {
        "colab": {
          "base_uri": "https://localhost:8080/"
        },
        "id": "jILd8Gii0hXk",
        "outputId": "d72fccb7-fb25-4d79-b7f5-b0492d18c3da"
      },
      "source": [
        "X_train_trf"
      ],
      "execution_count": null,
      "outputs": [
        {
          "output_type": "execute_result",
          "data": {
            "text/plain": [
              "array([[ 4.24490333e+00,  9.13142795e+00],\n",
              "       [ 9.05375518e+00,  4.75309554e-01],\n",
              "       [-2.27537401e+00,  3.27847097e+00],\n",
              "       [-2.51045303e+00,  7.43742636e-01],\n",
              "       [-2.30284792e+00,  2.66515505e+00],\n",
              "       [ 4.13994739e+00,  2.91476361e+00],\n",
              "       [ 2.99560854e+00,  4.20447521e+00],\n",
              "       [-3.21149460e+00, -3.73153521e-01],\n",
              "       [-2.37592825e+00,  3.33787948e-02],\n",
              "       [ 3.38983726e+00, -2.36510231e+00],\n",
              "       [-8.93881293e-01,  9.60683891e-01],\n",
              "       [ 4.33032435e+00, -4.03761003e+00],\n",
              "       [ 3.18617027e+00,  1.47231956e+00],\n",
              "       [-2.63966718e+00,  1.46297451e+00],\n",
              "       [-3.11866687e+00, -1.43889514e+00],\n",
              "       [ 5.00491144e+00, -1.16856216e+00],\n",
              "       [ 9.21099216e+00,  1.75576089e+00],\n",
              "       [ 5.97157908e+00,  3.48794503e+00],\n",
              "       [-2.78508674e+00, -2.43552252e+00],\n",
              "       [-3.28557710e+00, -4.26562359e-02],\n",
              "       [-2.05551632e+00, -2.42605467e+00],\n",
              "       [ 4.78576830e+00,  3.19275729e+00],\n",
              "       [-4.50204054e-01,  1.30156054e-01],\n",
              "       [-2.18628605e+00,  2.04858538e+00],\n",
              "       [ 1.27513923e+00,  9.60721028e-01],\n",
              "       [ 1.32979815e+00,  3.38273805e-01],\n",
              "       [-2.85993246e+00,  3.92298101e-01],\n",
              "       [ 4.93834065e+00, -4.12556719e+00],\n",
              "       [-3.59004836e+00,  7.73078593e-01],\n",
              "       [-4.31497473e+00, -1.89602521e+00],\n",
              "       [ 2.29180069e+00,  1.89522427e+00],\n",
              "       [-1.99968226e+00, -2.32190391e-01],\n",
              "       [ 3.27682472e+00, -1.74895902e+00],\n",
              "       [ 4.77455385e+00, -3.01285383e+00],\n",
              "       [-3.57269934e-01, -9.66105539e-01],\n",
              "       [-3.45519079e+00, -2.08891770e+00],\n",
              "       [-6.46788864e-01, -2.06900064e+00],\n",
              "       [-3.62187750e+00, -1.19685780e+00],\n",
              "       [-4.52509275e+00,  1.49744466e+00],\n",
              "       [-1.92329317e+00, -9.39877724e-01],\n",
              "       [-3.99839098e+00, -1.23434835e+00],\n",
              "       [ 1.30319614e+01,  8.10158192e-01],\n",
              "       [ 3.82808948e+00, -1.07327601e+00],\n",
              "       [-5.44546992e+00, -5.42774339e-01],\n",
              "       [-2.17907844e+00, -1.77918189e+00],\n",
              "       [-4.62696322e+00, -7.13930139e-01],\n",
              "       [-5.49891065e+00, -2.99722332e-01],\n",
              "       [-1.90897199e+00,  2.57211945e+00],\n",
              "       [-3.82695705e+00,  7.71461652e-01],\n",
              "       [-9.90639363e-01,  8.49257809e-01],\n",
              "       [-9.07588744e-01, -2.05029023e+00],\n",
              "       [-1.26055857e+00,  2.54020035e+00],\n",
              "       [-3.21690737e+00, -9.21469534e-01],\n",
              "       [-1.27714996e+00, -1.74032746e+00],\n",
              "       [ 1.11334361e+00,  6.94155880e+00],\n",
              "       [ 2.85799998e+00,  3.29072221e+00],\n",
              "       [ 9.98485058e-01,  2.38361681e+00],\n",
              "       [-3.05019829e+00, -2.14598573e+00],\n",
              "       [-2.21802623e+00, -6.40647867e-01],\n",
              "       [ 2.00477618e+00,  2.24581603e+00],\n",
              "       [-2.79245476e+00, -9.22237988e-01],\n",
              "       [-1.90384411e+00, -1.09057195e+00],\n",
              "       [-8.28944363e-01, -3.44859688e+00],\n",
              "       [-3.83926259e-01, -5.88937222e-01],\n",
              "       [-2.68071897e+00, -1.87306373e-01],\n",
              "       [-1.13134146e+00, -5.06761565e-01],\n",
              "       [-5.81291493e-01,  6.31283891e-01],\n",
              "       [-2.87459901e+00, -4.39291977e-01],\n",
              "       [-2.45319187e+00,  3.19863352e+00],\n",
              "       [ 1.35482271e+00, -1.28746101e+00],\n",
              "       [ 3.70157974e+00, -1.11216509e+00],\n",
              "       [ 2.20053447e+00,  2.26345720e+00],\n",
              "       [ 1.02704042e+00,  1.09697271e+00],\n",
              "       [-1.18787527e+00, -2.09264725e-01],\n",
              "       [ 2.87419799e+00,  1.16981950e+00],\n",
              "       [-1.38572192e+00,  4.40830961e-01],\n",
              "       [ 4.66711587e+00, -2.38294668e+00],\n",
              "       [-2.51495430e+00, -7.20013649e-01],\n",
              "       [-1.45494362e+00,  6.31589566e-01],\n",
              "       [-4.65241216e+00, -7.08488024e-01],\n",
              "       [-2.94136428e+00,  3.89106435e-01],\n",
              "       [ 2.62027131e-02, -3.43921683e+00],\n",
              "       [-1.53002325e+00, -1.13467970e+00],\n",
              "       [-3.98542922e+00,  1.15632694e+00],\n",
              "       [ 7.13650136e+00,  1.85535807e+00],\n",
              "       [-3.77295169e+00, -2.60282783e-01],\n",
              "       [-3.28607002e+00, -3.06933000e+00],\n",
              "       [-1.12772062e+00,  5.57256099e+00],\n",
              "       [ 9.04065175e+00,  1.93898482e+00],\n",
              "       [-2.58357959e+00, -1.07939898e+00],\n",
              "       [ 4.98546175e+00, -1.39586200e+00],\n",
              "       [ 4.92140962e+00, -2.87952001e+00],\n",
              "       [-3.04900267e+00, -1.24402909e-01],\n",
              "       [-3.32856563e+00, -5.27651034e-01],\n",
              "       [-9.21140415e-01,  8.91601481e-01],\n",
              "       [-5.88265805e-01, -8.81806194e-01],\n",
              "       [-2.63700900e+00,  2.30469454e+00],\n",
              "       [-3.46066824e+00,  1.83890420e+00],\n",
              "       [-1.18260966e+00,  4.00542544e+00],\n",
              "       [-4.58870743e+00, -1.97798150e-01],\n",
              "       [ 2.96728382e+00,  3.91026572e+00],\n",
              "       [-1.30710151e+00,  3.52152760e+00],\n",
              "       [-2.83452819e+00, -4.66754312e-01],\n",
              "       [-3.42838941e+00,  1.61142218e+00],\n",
              "       [-3.24362145e+00,  2.39137533e-01],\n",
              "       [-4.00505285e+00, -1.29717938e+00],\n",
              "       [ 2.23301278e+00,  9.47560499e-01],\n",
              "       [-1.43748724e+00, -1.53270659e+00],\n",
              "       [ 4.98302157e+00, -1.63094200e+00],\n",
              "       [ 4.48707593e+00,  1.31506665e+00],\n",
              "       [-2.23695072e+00,  4.63677503e-03],\n",
              "       [-2.71057558e+00,  2.30888554e+00],\n",
              "       [ 7.60528261e+00, -3.10859457e+00],\n",
              "       [-2.77037052e+00, -1.01962080e+00],\n",
              "       [-4.74992696e+00, -4.72851187e-01],\n",
              "       [-2.86046326e+00, -9.17640144e-01],\n",
              "       [-1.11825699e+00,  9.57731148e-01],\n",
              "       [-1.11790185e+00, -1.40431892e+00],\n",
              "       [-3.48127351e+00, -1.12502776e+00],\n",
              "       [-2.95287880e+00, -6.10765538e-01],\n",
              "       [ 5.85381845e-01,  4.15545792e-01],\n",
              "       [ 2.80401931e+00,  5.30644389e-01],\n",
              "       [ 9.51707647e+00, -5.68854719e+00],\n",
              "       [-2.38066960e+00,  9.85013905e-01],\n",
              "       [-2.85142229e+00, -2.78036690e+00],\n",
              "       [ 4.21261755e+00, -5.13704685e+00],\n",
              "       [-1.64753349e+00, -1.90525302e-01],\n",
              "       [-3.16492787e+00, -1.79211103e+00],\n",
              "       [ 1.82519524e+00, -4.30970546e+00],\n",
              "       [-3.47401373e+00, -2.54347881e+00],\n",
              "       [ 2.46857432e+00,  3.82797809e+00],\n",
              "       [-2.12736939e+00,  3.66528422e+00],\n",
              "       [ 5.39842727e+00, -2.26963618e-01],\n",
              "       [-2.35535365e+00, -7.20459401e-01],\n",
              "       [-1.89336134e+00, -3.03814885e+00],\n",
              "       [-3.27166285e+00,  4.59895759e-01],\n",
              "       [ 3.14726540e-01,  2.20487387e-01],\n",
              "       [ 2.62311258e-01, -1.54919286e+00],\n",
              "       [-2.09440845e+00,  9.28839980e-02],\n",
              "       [-3.80893115e+00,  5.56059359e-01],\n",
              "       [-3.03089811e-01,  2.22868870e+00],\n",
              "       [ 7.25371804e+00,  9.98843880e+00],\n",
              "       [-1.33217720e+00,  1.43597020e+00],\n",
              "       [ 3.33198228e+00, -1.57842016e+00],\n",
              "       [-7.94240049e-01, -1.27254338e+00],\n",
              "       [ 3.59802205e+00,  2.13796367e+00],\n",
              "       [-3.52135410e+00, -1.20666363e+00],\n",
              "       [ 2.81825843e+00,  3.41746642e+00],\n",
              "       [-3.70613790e+00, -1.30946257e+00],\n",
              "       [-7.62666639e-01, -2.96634537e+00],\n",
              "       [ 2.59469800e+00, -3.92869079e+00],\n",
              "       [-2.33570685e+00, -1.57467771e+00],\n",
              "       [-5.29375138e+00,  1.02491190e+00],\n",
              "       [-1.12303435e+00,  1.89539415e+00],\n",
              "       [-2.13592466e+00,  1.04743109e-02],\n",
              "       [ 2.63747595e+00,  1.54616311e+00],\n",
              "       [-1.78743391e-01,  1.48751875e+00],\n",
              "       [-3.48585060e+00, -6.06823315e-01],\n",
              "       [-7.02761977e-01,  1.74101504e+00],\n",
              "       [ 5.03226948e+00, -1.76946141e+00],\n",
              "       [-3.80836298e-01, -7.86577450e-01],\n",
              "       [-2.93573614e+00, -4.25746692e-02],\n",
              "       [ 1.83716828e+00,  2.75879516e+00],\n",
              "       [ 6.87887491e+00,  1.24323428e+01],\n",
              "       [-5.35136793e-01,  3.70135700e+00],\n",
              "       [ 7.15825905e+00, -3.40890416e-02],\n",
              "       [-3.20104011e+00, -2.15980571e+00],\n",
              "       [-3.34154671e+00,  7.83401763e-01],\n",
              "       [-2.05388592e+00,  1.85753586e+00],\n",
              "       [-1.98247182e+00,  8.08664326e-01],\n",
              "       [-2.60057403e+00, -6.48336960e-01],\n",
              "       [-3.49567515e-01,  1.59711952e-01],\n",
              "       [-4.18674260e+00,  2.03999014e-01],\n",
              "       [ 8.92776193e-01, -2.34290882e+00],\n",
              "       [-2.06409327e+00,  3.75127466e-01],\n",
              "       [-2.18288071e+00, -3.43578184e-01],\n",
              "       [-2.20212516e+00, -4.53395673e-01],\n",
              "       [-7.21308693e-01, -2.43545371e+00],\n",
              "       [-4.72704354e+00, -1.73328889e+00],\n",
              "       [ 4.24716907e+00,  1.12153777e+00],\n",
              "       [-7.53551278e-01, -2.10732876e+00],\n",
              "       [-2.01593332e+00, -8.00464704e-01],\n",
              "       [-2.99694089e+00,  1.15353939e+00],\n",
              "       [ 1.33344612e+00,  9.07520699e-01],\n",
              "       [-1.94723672e+00,  1.31837368e+00],\n",
              "       [ 1.35494043e+00, -1.78890526e+00],\n",
              "       [ 5.10955941e+00, -2.05271949e+00],\n",
              "       [-4.07185874e+00,  2.33885412e+00],\n",
              "       [-7.86424538e-02,  2.28270348e+00],\n",
              "       [ 2.30329974e+00, -3.93797360e-01],\n",
              "       [-4.57824442e+00, -2.66694443e+00],\n",
              "       [ 3.24817668e+00, -9.89700976e-01],\n",
              "       [ 9.97539902e-01, -2.20370553e+00],\n",
              "       [-2.36654459e+00, -7.47241322e-01],\n",
              "       [-1.36959689e+00,  2.73453391e-01],\n",
              "       [-1.43105784e+00,  1.69392424e+00],\n",
              "       [ 7.10139872e-01,  3.34978567e+00],\n",
              "       [-1.04887914e+00, -3.21906631e+00],\n",
              "       [-1.87108396e+00,  8.77362743e-01],\n",
              "       [-5.33682834e+00,  6.07180558e-01],\n",
              "       [ 3.47959999e+00, -2.27026640e+00],\n",
              "       [ 1.58549870e+00,  6.47416780e+00],\n",
              "       [ 2.50642863e+00,  4.71682394e+00],\n",
              "       [-2.47462399e+00, -2.27708285e+00],\n",
              "       [ 3.68617616e-01,  1.09860251e+00],\n",
              "       [-3.04600973e+00, -2.07694841e+00],\n",
              "       [ 1.09319789e+01, -3.85694136e+00],\n",
              "       [-7.27373799e-01, -9.24131580e-02],\n",
              "       [ 8.60621662e+00, -3.55389793e+00],\n",
              "       [-2.55119394e+00,  2.46024846e-01],\n",
              "       [-1.78982576e+00, -9.03165971e-02],\n",
              "       [ 3.37320027e+00, -2.10433050e+00],\n",
              "       [ 4.78701261e+00, -1.53841648e+00],\n",
              "       [-3.85790552e+00,  1.21664175e+00],\n",
              "       [-3.11639821e+00, -7.08727615e-01],\n",
              "       [ 4.02342181e+00, -2.94693276e+00],\n",
              "       [-2.81653863e+00, -2.40133783e-01],\n",
              "       [ 4.58103405e+00, -9.04387384e-01],\n",
              "       [ 1.28761092e+01,  2.02899170e+00],\n",
              "       [-2.68518368e+00,  6.01245919e-01],\n",
              "       [ 9.04439514e+00, -7.40557100e-01],\n",
              "       [ 7.32277992e+00, -1.96496471e-01],\n",
              "       [-3.20713807e+00, -1.09130533e+00],\n",
              "       [-5.39146059e-02, -1.63727087e-01],\n",
              "       [ 2.72816885e+00, -3.94671151e+00],\n",
              "       [ 4.43890226e+00, -1.02232812e+00],\n",
              "       [ 5.24437425e+00, -6.74424084e+00],\n",
              "       [ 2.27313524e+00,  4.35605871e+00],\n",
              "       [-1.86130778e+00,  1.40675444e+00],\n",
              "       [-3.11857704e+00, -1.82678906e+00],\n",
              "       [-2.48524607e+00, -1.98612355e+00],\n",
              "       [ 1.85943668e+00,  1.23017163e-01],\n",
              "       [-2.01679632e+00,  1.77571058e+00],\n",
              "       [ 3.31951291e+00, -1.19050333e+00],\n",
              "       [ 4.27669060e+00, -4.61543550e+00],\n",
              "       [ 4.67487958e+00, -1.50453562e+00],\n",
              "       [-7.20301228e-01, -1.88959797e+00],\n",
              "       [-3.03969301e+00,  3.00693362e-01],\n",
              "       [-2.42681550e+00, -3.12877123e-01],\n",
              "       [ 1.32752246e+00,  2.15045721e+00],\n",
              "       [ 3.95309692e-01,  2.09687118e+00],\n",
              "       [-2.58421305e+00, -1.76863628e+00],\n",
              "       [-2.45268559e+00, -1.12475188e+00],\n",
              "       [-3.32524395e+00, -7.90723674e-01],\n",
              "       [-2.19076919e+00,  1.15954211e-01],\n",
              "       [ 2.53570660e+00, -2.54674846e+00],\n",
              "       [ 3.51828676e+00, -3.89395780e+00],\n",
              "       [ 3.51023297e+00,  3.95278569e+00],\n",
              "       [-4.04681441e+00, -1.20695685e+00],\n",
              "       [ 3.46913345e+00, -1.70916115e+00],\n",
              "       [-2.52898029e+00,  2.48058487e+00],\n",
              "       [-2.30403410e+00,  7.12671565e-01],\n",
              "       [-3.62887447e+00,  4.27488688e+00],\n",
              "       [ 1.25680245e-01,  7.08837944e+00],\n",
              "       [-3.83876498e+00,  7.89633927e-01],\n",
              "       [ 3.30521515e+00, -3.89540044e+00],\n",
              "       [-3.83017965e+00, -1.48276083e+00],\n",
              "       [-3.79358438e-01,  2.13688485e+00],\n",
              "       [ 5.47321776e+00, -4.19578015e+00],\n",
              "       [ 1.91832178e+00, -2.40763092e+00],\n",
              "       [-2.57871467e+00, -4.03151355e-01],\n",
              "       [ 1.21031101e+00, -2.38521018e+00],\n",
              "       [-2.10246669e+00, -1.17849711e+00],\n",
              "       [ 8.73563083e+00,  3.20750550e+00],\n",
              "       [-3.63250028e+00, -1.16767160e+00],\n",
              "       [-2.01587031e+00,  3.17027197e-01],\n",
              "       [-2.91889629e+00,  3.55929931e-01],\n",
              "       [-3.92362467e+00, -1.96066185e+00],\n",
              "       [ 1.99229341e+00,  6.42209828e+00],\n",
              "       [-2.46279386e+00, -1.36845404e+00],\n",
              "       [ 3.11235547e+00, -1.28840688e+00],\n",
              "       [-3.98991267e+00,  1.04967140e+00],\n",
              "       [-1.19428670e+00, -1.31225961e+00],\n",
              "       [ 1.89021093e+00, -3.50112724e+00],\n",
              "       [-1.05837113e+00,  1.38933196e+00],\n",
              "       [-4.10062178e+00, -1.32568063e+00],\n",
              "       [-3.20538529e+00,  1.29828426e+00],\n",
              "       [ 1.16721444e+00,  8.06659940e+00],\n",
              "       [-3.12041676e+00, -9.70704165e-01],\n",
              "       [-1.27161923e+00,  8.30956991e-01],\n",
              "       [ 6.35212677e+00,  1.92171659e+00],\n",
              "       [-6.76585279e-01, -1.56282239e+00],\n",
              "       [-1.51653067e+00, -1.04826225e+00],\n",
              "       [-2.31484038e-01, -1.24207599e-01],\n",
              "       [-1.93922320e+00, -1.81233770e+00],\n",
              "       [ 1.88765486e+00,  6.73428069e-01],\n",
              "       [ 2.67726383e+00,  5.62697547e-01],\n",
              "       [ 3.31487952e+00, -1.72629109e+00],\n",
              "       [ 1.32931640e+00,  4.77770537e+00],\n",
              "       [ 3.85657377e-01, -3.55421799e+00],\n",
              "       [-1.39311699e+00, -1.71995915e+00],\n",
              "       [-4.65852189e+00, -1.05236289e+00],\n",
              "       [ 8.10938380e+00,  2.67901400e+00],\n",
              "       [ 2.80821788e+00, -4.13014978e-01],\n",
              "       [ 4.06788383e+00,  4.95500700e-01],\n",
              "       [-2.46054972e+00,  8.76777113e-02],\n",
              "       [-2.39586850e+00,  9.06715169e-01],\n",
              "       [-1.66560604e+00,  9.61913280e-01],\n",
              "       [-3.28005060e+00,  6.21921440e-03],\n",
              "       [-1.24019365e+00, -1.50186591e+00],\n",
              "       [-9.22882400e-01,  3.96907105e-01],\n",
              "       [-2.26590772e+00,  7.73190055e-01],\n",
              "       [ 4.39509656e+00, -2.15375326e+00],\n",
              "       [-3.14677986e+00, -1.60873923e+00],\n",
              "       [-2.19841898e+00, -1.19738654e+00],\n",
              "       [-1.27060156e-01, -1.29031001e-01],\n",
              "       [ 6.23427806e+00,  4.94640643e+00],\n",
              "       [-3.78437835e+00,  9.00325051e-01],\n",
              "       [-4.96631398e+00, -3.23983434e+00],\n",
              "       [ 3.84052325e+00,  2.24237475e+00],\n",
              "       [-1.32952773e-04,  2.22244284e+00],\n",
              "       [-3.29151062e+00,  2.63987736e+00],\n",
              "       [ 4.14500838e+00,  2.75733034e+00],\n",
              "       [-3.37290286e+00,  1.28931251e+00],\n",
              "       [ 4.18641249e+00,  7.07507681e-01],\n",
              "       [ 3.82507010e+00, -1.95309008e+00],\n",
              "       [-2.97854988e+00,  1.66325807e+00],\n",
              "       [-1.92818199e+00, -5.62699659e-01],\n",
              "       [ 3.72517580e+00, -2.85413106e+00],\n",
              "       [-1.20221483e+00,  1.58125147e+00],\n",
              "       [ 3.91225758e+00, -2.02054345e+00],\n",
              "       [ 6.37324572e+00, -1.83091212e+00],\n",
              "       [-2.09996513e+00,  1.55152304e+00],\n",
              "       [ 4.96839563e+00,  3.01104844e+00],\n",
              "       [-4.08028611e-01, -1.33034744e+00],\n",
              "       [-3.83379644e+00,  5.39414866e-01],\n",
              "       [-1.48294833e-01,  1.04666220e+00],\n",
              "       [ 3.28733099e+00,  2.51130282e+00],\n",
              "       [-3.16265931e+00,  6.05845598e-01],\n",
              "       [-9.23559543e-01, -1.64971507e+00],\n",
              "       [-2.77924663e+00,  3.64133498e-01],\n",
              "       [-1.37088185e+00,  1.34395022e+00],\n",
              "       [ 1.37217011e+00,  2.11739700e+00],\n",
              "       [-2.49709080e+00,  3.08908047e+00],\n",
              "       [-1.11561828e+00, -1.95511651e+00],\n",
              "       [ 1.78571507e+00,  2.28179145e+00],\n",
              "       [ 4.61262922e+00,  2.51159025e-01],\n",
              "       [ 5.96779644e+00, -1.48028075e-01],\n",
              "       [-2.00205154e+00, -1.01108345e+00],\n",
              "       [-4.61299826e+00, -1.74541811e+00],\n",
              "       [-1.42237941e+00,  1.34459150e-01],\n",
              "       [ 2.18426999e+00, -2.83715921e+00],\n",
              "       [ 3.04809317e+00, -1.87969026e+00],\n",
              "       [-2.16527272e+00,  1.28589569e+00],\n",
              "       [ 3.32928905e+00, -1.85202877e-01],\n",
              "       [ 3.41613172e+00, -3.38807473e+00],\n",
              "       [-1.58371553e+00,  2.92542345e-01],\n",
              "       [ 3.96287248e-01,  3.72251959e+00],\n",
              "       [-2.89453010e+00, -7.84440243e-03],\n",
              "       [ 6.17458122e+00, -2.08633365e+00],\n",
              "       [-3.52397422e+00,  2.54689503e+00],\n",
              "       [ 2.72585329e+00, -1.99088367e+00],\n",
              "       [ 3.78214212e+00,  7.89267617e-01],\n",
              "       [ 4.75888910e+00,  2.96819852e+00],\n",
              "       [-1.93401670e+00, -3.79156699e-01],\n",
              "       [ 1.44435716e+00,  1.25043706e+00],\n",
              "       [-2.86056667e+00, -1.36417925e+00],\n",
              "       [ 3.27547276e+00,  3.29321210e+00],\n",
              "       [-3.12464681e+00, -1.74525202e+00],\n",
              "       [-2.11617825e+00,  9.06560927e-01],\n",
              "       [ 1.75823596e+00,  1.49676058e+00],\n",
              "       [ 6.56405651e+00, -1.55143022e+00],\n",
              "       [ 4.40014030e+00,  4.80310925e+00],\n",
              "       [ 4.09255122e+00, -4.23224585e-01],\n",
              "       [-2.12153269e+00, -1.84608431e+00],\n",
              "       [ 3.87805012e+00,  5.88568464e+00],\n",
              "       [-2.79626610e+00, -3.69380118e-01],\n",
              "       [-4.03990720e+00, -5.25758774e-01],\n",
              "       [-3.59152094e-01,  2.26638120e+00],\n",
              "       [-1.92185765e+00, -1.41217076e-01],\n",
              "       [-1.82180254e+00, -8.83714105e-01],\n",
              "       [-3.41590765e+00, -4.67785113e-01],\n",
              "       [-4.39159046e+00, -7.14924126e-01],\n",
              "       [ 4.68607595e+00, -1.00497296e+00],\n",
              "       [ 8.36992284e+00, -4.20752977e+00],\n",
              "       [ 4.52062988e-01, -2.77847164e+00],\n",
              "       [ 1.20689845e+01, -7.64201771e+00],\n",
              "       [-3.28251023e+00, -1.42835968e+00],\n",
              "       [ 4.30486766e-01,  3.46864701e+00],\n",
              "       [-2.99465635e+00, -6.16560233e-01],\n",
              "       [-4.63111526e-01, -1.27482429e-01],\n",
              "       [ 1.60900618e+01, -7.83642324e+00],\n",
              "       [-1.82518690e+00, -1.46410886e+00],\n",
              "       [ 1.23132105e+00, -1.82296376e+00],\n",
              "       [-3.51952820e+00,  9.12911102e-01],\n",
              "       [-4.02381194e+00, -1.30167178e+00],\n",
              "       [-7.34725833e-01,  3.14178286e+00],\n",
              "       [-2.20014203e+00, -1.25493020e+00],\n",
              "       [-1.20790971e+00,  1.09001020e+00],\n",
              "       [ 1.66254301e+00, -2.09305260e+00],\n",
              "       [ 3.33816004e+00, -2.91658187e+00],\n",
              "       [ 1.05043074e+00,  9.46587336e-01],\n",
              "       [-2.75381965e+00,  1.15771892e+00],\n",
              "       [-3.39662361e+00, -9.57952167e-01],\n",
              "       [ 6.53529047e+00,  7.87926191e+00],\n",
              "       [-5.19061761e-01, -9.07241518e-01],\n",
              "       [-4.02531122e+00, -2.47175590e+00],\n",
              "       [ 3.77653341e+00,  1.05995179e+00],\n",
              "       [ 3.28304571e+00,  3.93050722e+00],\n",
              "       [ 4.69775911e+00, -1.91489140e-01],\n",
              "       [ 2.37921190e+00, -3.77820869e+00],\n",
              "       [-2.40967191e+00,  5.55378052e-01],\n",
              "       [-1.56759503e+00,  1.69603302e+00],\n",
              "       [-1.97670822e-01, -7.20513567e-01],\n",
              "       [ 3.04352806e+00,  7.03093887e-01],\n",
              "       [-1.14378686e+00, -1.66528314e+00],\n",
              "       [-2.27351790e+00,  4.56062433e-01],\n",
              "       [-2.79606562e+00, -9.84346739e-01],\n",
              "       [ 6.21260250e+00, -1.41987595e+00],\n",
              "       [ 2.80405933e-01, -5.18978753e-01],\n",
              "       [ 7.32641572e+00, -5.30353732e+00],\n",
              "       [-2.37806362e+00,  3.39661132e+00],\n",
              "       [-4.45010012e+00, -1.67791180e+00],\n",
              "       [ 3.47927788e-01, -9.37286481e-01],\n",
              "       [-4.85367921e+00, -2.25891638e+00],\n",
              "       [-3.43201514e+00, -2.35725866e+00],\n",
              "       [-3.56862955e+00,  1.56467477e+00],\n",
              "       [-4.35146568e+00,  7.15393923e-03],\n",
              "       [ 8.70757487e+00, -6.34115225e-01],\n",
              "       [-1.23987751e-02, -2.70149156e-01],\n",
              "       [-2.13379857e+00, -7.44432160e-01],\n",
              "       [ 1.38249055e+00,  7.52131710e+00],\n",
              "       [-1.85821018e+00, -1.50647039e+00],\n",
              "       [-3.33817156e+00, -1.04667169e+00],\n",
              "       [-1.96859859e+00, -1.89315691e-01],\n",
              "       [-1.89464172e+00,  1.70145575e+00],\n",
              "       [-3.69828421e+00, -1.73726120e+00],\n",
              "       [-1.95732483e+00,  1.90830230e+00],\n",
              "       [ 7.06520783e+00,  4.55033349e-01],\n",
              "       [-3.50727549e+00,  1.65590537e+00],\n",
              "       [-4.00164548e+00, -2.35210841e-01],\n",
              "       [-4.04527220e+00, -3.59627613e-01],\n",
              "       [-5.50551988e-01,  1.74864416e+00],\n",
              "       [-4.28297320e+00, -3.20759543e-01],\n",
              "       [-1.73258182e+00, -4.73230298e-01],\n",
              "       [-5.22345551e-01, -1.25245440e+00],\n",
              "       [ 1.75963746e-01, -3.85433408e-01],\n",
              "       [-1.67457946e+00, -4.48206378e+00],\n",
              "       [ 5.01067220e+00, -1.35366010e+00],\n",
              "       [-4.65563885e+00, -2.97778417e+00],\n",
              "       [-1.81786170e+00,  1.36264333e+00],\n",
              "       [ 6.61414469e-01,  6.49174373e-01],\n",
              "       [ 3.66285508e+00, -1.99555949e+00],\n",
              "       [ 3.59822166e+00, -2.21739488e+00],\n",
              "       [-3.14174161e+00, -1.98860818e+00],\n",
              "       [ 1.81117944e+00, -2.78922602e-01],\n",
              "       [ 2.58886522e+00,  2.53805904e+00],\n",
              "       [-4.10513382e-01,  1.59657910e-01],\n",
              "       [ 3.34929420e+00, -1.38575639e+00],\n",
              "       [-1.52219939e+00,  5.43997482e-01],\n",
              "       [-3.68252034e-01,  7.23141537e+00],\n",
              "       [-6.86604846e-01,  1.78121963e+00],\n",
              "       [-4.50065362e+00, -3.06780804e+00],\n",
              "       [ 7.28284964e-01,  4.26286572e-01],\n",
              "       [-3.40392527e+00, -1.33038767e+00]])"
            ]
          },
          "metadata": {
            "tags": []
          },
          "execution_count": 40
        }
      ]
    },
    {
      "cell_type": "code",
      "metadata": {
        "colab": {
          "base_uri": "https://localhost:8080/",
          "height": 542
        },
        "id": "77INI_Vt0j8E",
        "outputId": "2ce1f660-4b98-47d6-ce1e-9b494c10b40c"
      },
      "source": [
        "import plotly.express as px\n",
        "y_train_trf = y_train.astype(str)\n",
        "fig = px.scatter(x = X_train_trf[:,0] ,y = X_train_trf[:,1],color=y_train_trf,\n",
        "                 color_discrete_sequence=px.colors.qualitative.G10)\n",
        "fig.show()"
      ],
      "execution_count": null,
      "outputs": [
        {
          "output_type": "display_data",
          "data": {
            "text/html": [
              "<html>\n",
              "<head><meta charset=\"utf-8\" /></head>\n",
              "<body>\n",
              "    <div>\n",
              "            <script src=\"https://cdnjs.cloudflare.com/ajax/libs/mathjax/2.7.5/MathJax.js?config=TeX-AMS-MML_SVG\"></script><script type=\"text/javascript\">if (window.MathJax) {MathJax.Hub.Config({SVG: {font: \"STIX-Web\"}});}</script>\n",
              "                <script type=\"text/javascript\">window.PlotlyConfig = {MathJaxConfig: 'local'};</script>\n",
              "        <script src=\"https://cdn.plot.ly/plotly-latest.min.js\"></script>    \n",
              "            <div id=\"d86a8b67-ff26-4e68-98cc-af6d5c7d048e\" class=\"plotly-graph-div\" style=\"height:525px; width:100%;\"></div>\n",
              "            <script type=\"text/javascript\">\n",
              "                \n",
              "                    window.PLOTLYENV=window.PLOTLYENV || {};\n",
              "                    \n",
              "                if (document.getElementById(\"d86a8b67-ff26-4e68-98cc-af6d5c7d048e\")) {\n",
              "                    Plotly.newPlot(\n",
              "                        'd86a8b67-ff26-4e68-98cc-af6d5c7d048e',\n",
              "                        [{\"hoverlabel\": {\"namelength\": 0}, \"hovertemplate\": \"color=1<br>x=%{x}<br>y=%{y}\", \"legendgroup\": \"color=1\", \"marker\": {\"color\": \"#3366CC\", \"symbol\": \"circle\"}, \"mode\": \"markers\", \"name\": \"color=1\", \"showlegend\": true, \"type\": \"scatter\", \"x\": [4.244903328667078, -2.2753740148331523, -2.5104530304700075, -2.3028479218165194, 2.995608537108106, -3.2114946000535465, -2.3759282515113735, -0.893881292710578, -2.6396671804532823, -3.118666874197916, -2.785086744782218, -3.2855771029369967, -2.0555163199086612, -0.4502040536239553, -2.1862860534806328, 1.2751392256406828, -2.859932463787422, -3.590048362241835, -4.31497472945516, -1.9996822577664102, -3.4551907883166453, -3.6218775012887034, -4.52509274847315, -1.9232931730404927, -3.9983909751002624, -5.445469915696988, -2.1790784362452436, -4.6269632231975, -5.498910653647999, -1.9089719909074214, -3.826957054762418, -0.9906393631023964, -1.2605585712770393, -3.216907369528465, -1.2771499585572723, 1.113343611036043, 0.9984850577316958, -3.050198294922506, -2.218026233378531, 2.0047761792002916, -2.7924547624251272, -1.9038441128491168, -0.3839262588903141, -2.6807189660126696, -1.1313414550525254, -0.5812914928562724, -2.8745990074552488, -2.453191874564493, 1.0270404217085531, -1.1878752727942832, -1.3857219217265997, -2.5149543039540054, -1.454943623604407, -4.652412159073469, -2.9413642795710744, -1.5300232503044586, -3.9854292225862467, -3.772951693898117, -3.2860700247432404, -1.1277206226482068, -2.583579590659984, -3.049002666150704, -3.328565632636643, -0.921140415489438, -2.637009002539251, -3.460668243751747, -1.1826096607287624, -4.588707432220547, -1.307101507266185, -2.8345281872034733, -3.428389410467142, -3.243621446482168, -4.005052846511963, -1.4374872439920916, -2.23695071797793, -2.71057557786887, -2.7703705212159044, -4.74992696426647, -2.860463261763, -1.118256991533488, -1.1179018534482876, -3.4812735075859726, -2.952878796668588, -2.380669598619909, -2.851422288717088, -1.647533493705869, -3.1649278669737333, -3.47401373483346, -2.1273693893438748, -2.3553536500718284, -3.271662848747572, 0.31472653955675756, -2.0944084493778856, -3.8089311492002698, -0.3030898114034101, -1.332177202786678, -0.794240049011447, -3.5213541024437034, -3.706137902992719, -0.7626666390847578, -2.3357068473517693, -5.293751378084191, -1.123034351105655, -2.1359246638536966, -0.17874339096636707, -3.4858505977855208, -0.7027619766893844, -0.3808362978876363, -2.935736137048512, 6.878874911477237, -0.5351367928915197, -3.201040105236472, -3.3415467066577373, -2.0538859244083922, -1.982471817466373, -2.600574033038491, -0.3495675147467927, -4.186742602408749, -2.064093269270927, -2.1828807078296966, -2.2021251610789796, -4.727043541802852, -0.7535512775354314, -2.0159333227779395, -2.9969408937168107, -1.94723671748738, -4.071858740959532, -0.07864245383263388, -4.5782444159015805, -1.3695968949274282, -1.431057835125517, 0.7101398720044924, -1.8710839629396796, -5.336828342177787, 1.5854986972488558, -2.4746239877456677, 0.3686176163393369, -3.0460097254162783, -0.7273737991194509, -2.5511939396229093, -1.7898257616401902, -3.8579055189098694, -3.116398209891448, -2.8165386262450673, -2.685183678614677, -3.207138074255925, -0.053914605893387584, 2.2731352410815124, -1.8613077814082788, -3.1185770431900766, -2.4852460736874455, -2.0167963225311407, -3.039693012435766, -2.426815497016273, 1.327522457983911, 0.39530969188109244, -2.5842130508295327, -2.4526855909610163, -3.325243946969385, -2.190769188355452, 3.5102329713336125, -4.046814408315691, -2.5289802870670366, -2.304034104377342, -3.62887447245533, 0.12568024524682742, -3.8387649800276784, -3.830179654274816, -0.3793584381668624, -2.578714667723588, -2.10246669469172, -3.632500277260903, -2.0158703118843424, -2.918896292253822, -3.9236246742601733, 1.9922934097823108, -2.462793855051513, -3.9899126725518292, -1.1942866952868294, -1.0583711267751774, -4.100621776417535, -3.2053852949599326, 1.167214440874933, -3.120416758107444, -1.2716192304691771, -0.6765852788179226, -1.5165306738306001, -1.9392232023895863, 1.3293163979489395, -1.393116993389405, -4.658521888174083, -2.460549718063977, -2.395868503136669, -1.6656060405891349, -3.280050595376606, -1.2401936470251975, -0.9228823999740283, -2.265907717116591, -3.146779860768136, -2.1984189828381466, -0.12706015627305894, -3.784378350034682, -4.966313980659458, -3.2915106237165617, -3.3729028639597827, -2.9785498813366047, -1.9281819948408176, -1.2022148271334248, -2.0999651263910364, -3.8337964446110866, -0.1482948328148355, -3.1626593059618453, -2.7792466279958257, -1.3708818513377403, -2.497090803408524, -1.1156182751724797, -2.002051536045527, -4.612998261819082, -1.422379413663115, -2.1652727247268495, -1.5837155263098137, 0.39628724831915146, -2.894530098458384, -3.5239742186424583, 1.4443571557452008, -2.860566673897834, -3.1246468079157084, -2.1161782532421385, -2.796266095536814, -4.039907200931225, -0.35915209448090213, -1.9218576516048067, -1.8218025440996903, -3.4159076454838777, -4.391590462455624, -3.2825102296229285, 0.4304867655026149, -2.994656349403207, -0.4631115257934529, -1.82518690425081, -3.519528196427505, -4.023811939439511, -0.734725833453598, -2.200142034618731, -1.2079097123406857, -2.7538196499836287, -3.396623605164676, -0.5190617606585263, -4.025311217887394, -2.4096719074120347, -1.5675950299705088, -1.1437868623384084, -2.273517895311808, -2.7960656222619225, -2.3780636168332383, -4.450100118503358, -4.853679210426307, -3.4320151401185965, -3.568629553017919, -4.351465676343224, -0.01239877513274172, -2.1337985726885784, 1.3824905533777083, -1.8582101762631895, -3.33817156164528, -1.9685985902039504, -1.8946417181223365, -3.6982842088684027, -1.9573248283412525, -3.5072754899184617, -4.00164548128621, -4.0452722005290305, -0.5505519884098992, -4.282973202245038, -1.732581824151393, 0.17596374634980255, -1.6745794579247812, -4.655638849402763, -1.8178617049141181, -3.1417416059988206, -0.4105133816621309, -1.5221993926373591, -0.36825203394401884, -0.6866048463324798, -4.500653617542397, -3.4039252744819635], \"xaxis\": \"x\", \"y\": [9.131427951711357, 3.2784709705355164, 0.7437426355564937, 2.6651550497776353, 4.204475211388841, -0.3731535209148506, 0.03337879483596525, 0.960683890741081, 1.4629745074997231, -1.4388951432929424, -2.4355225180169766, -0.04265623592183797, -2.426054674593582, 0.13015605419778553, 2.048585382295287, 0.9607210279183951, 0.3922981013118187, 0.7730785929276054, -1.8960252129140835, -0.2321903909078424, -2.088917704473408, -1.1968577998355552, 1.4974446645051822, -0.9398777239006163, -1.2343483460600877, -0.5427743387022574, -1.779181890400943, -0.7139301394260336, -0.2997223319377412, 2.572119445157045, 0.7714616521769471, 0.8492578094455137, 2.540200347545555, -0.9214695341702602, -1.7403274644971947, 6.941558798991661, 2.383616806599809, -2.1459857330589056, -0.6406478667708778, 2.2458160309687187, -0.9222379879005815, -1.0905719482762162, -0.5889372221980026, -0.18730637310467177, -0.5067615645542755, 0.631283890560462, -0.43929197715563056, 3.1986335165897493, 1.0969727146700206, -0.20926472509326305, 0.44083096064353283, -0.7200136489019905, 0.631589566312786, -0.708488023808922, 0.3891064350494088, -1.1346797023902968, 1.156326942205703, -0.2602827833516154, -3.0693300021981713, 5.572560989450492, -1.079398978634115, -0.12440290880156596, -0.5276510336181737, 0.8916014814892895, 2.3046945377366512, 1.8389041975902767, 4.005425440393907, -0.19779814996727701, 3.5215275961990833, -0.46675431226845043, 1.6114221823559074, 0.23913753345966118, -1.2971793781951657, -1.5327065922299514, 0.0046367750335880396, 2.308885536810565, -1.0196207979809053, -0.472851186506835, -0.9176401444642492, 0.9577311484687756, -1.4043189177305306, -1.1250277574546577, -0.610765538212783, 0.9850139047938231, -2.7803669008327656, -0.19052530194169565, -1.7921110321107734, -2.543478813376266, 3.6652842229981926, -0.7204594009424898, 0.4598957592408795, 0.220487386944556, 0.09288399798078975, 0.5560593590449643, 2.2286886979003975, 1.4359701970306862, -1.2725433778895057, -1.2066636335639305, -1.3094625720483717, -2.9663453705571934, -1.5746777107507723, 1.0249118977196945, 1.895394151121599, 0.010474310939306179, 1.4875187476874552, -0.6068233151115002, 1.7410150412574743, -0.7865774502486792, -0.04257466916620477, 12.432342796691621, 3.7013569983552568, -2.159805712147205, 0.7834017625482804, 1.8575358629944179, 0.8086643255915235, -0.6483369595991345, 0.1597119521759591, 0.20399901365633938, 0.3751274657173589, -0.34357818361094955, -0.45339567278397497, -1.7332888934699144, -2.107328758477019, -0.8004647044197801, 1.15353939103078, 1.3183736814756, 2.3388541242741288, 2.2827034813888885, -2.6669444345653712, 0.2734533911526501, 1.6939242359654654, 3.349785667826999, 0.8773627425154886, 0.6071805579971544, 6.474167800549611, -2.2770828530972507, 1.0986025054921016, -2.076948408163136, -0.09241315796189069, 0.2460248463044151, -0.09031659708235462, 1.216641746530827, -0.7087276146125362, -0.24013378255305778, 0.6012459189349628, -1.091305330963077, -0.16372708731767094, 4.3560587094062475, 1.4067544426752576, -1.8267890630763404, -1.98612355457264, 1.775710580951926, 0.30069336212792463, -0.31287712342057844, 2.150457212424527, 2.096871176555848, -1.7686362796967348, -1.1247518829502685, -0.7907236740482204, 0.11595421112313202, 3.9527856851745384, -1.2069568545184985, 2.480584865310181, 0.7126715647329435, 4.27488687652434, 7.088379441772391, 0.7896339268620888, -1.4827608342406617, 2.136884852467375, -0.40315135491485077, -1.1784971148991576, -1.1676715994749656, 0.3170271968084503, 0.3559299310386761, -1.9606618535611087, 6.422098278157469, -1.368454044367548, 1.0496713960040427, -1.3122596141481218, 1.3893319578005636, -1.3256806340715246, 1.298284257003817, 8.066599397927552, -0.9707041650880485, 0.8309569905027089, -1.5628223913995256, -1.0482622493437173, -1.8123376970313174, 4.777705366537848, -1.7199591456095618, -1.0523628899355857, 0.08767771126843661, 0.9067151685833169, 0.9619132796953701, 0.0062192143955600195, -1.5018659056988508, 0.3969071045721331, 0.7731900547720125, -1.6087392271804861, -1.1973865389034655, -0.12903100144728008, 0.9003250508271877, -3.2398343407141006, 2.6398773585762414, 1.2893125064923743, 1.6632580688479397, -0.5626996586670652, 1.5812514725326368, 1.5515230408434582, 0.539414866441378, 1.046662196629025, 0.6058455984385328, 0.36413349788085014, 1.3439502212006058, 3.0890804652100785, -1.9551165101424544, -1.0110834460628462, -1.7454181148947827, 0.13445914974385292, 1.285895691135266, 0.29254234518680866, 3.7225195893443965, -0.007844402432803124, 2.5468950333813907, 1.2504370636051656, -1.364179248941279, -1.7452520213521594, 0.9065609270841651, -0.36938011758934813, -0.5257587744149245, 2.266381198515108, -0.14121707550463447, -0.883714104763171, -0.4677851128288534, -0.7149241261874275, -1.428359675407391, 3.4686470074275664, -0.6165602328767155, -0.12748242932491632, -1.4641088611741828, 0.9129111022118747, -1.3016717806839369, 3.1417828598644943, -1.2549302013893922, 1.0900102032642862, 1.1577189172481066, -0.9579521669567204, -0.9072415183656277, -2.4717559012253214, 0.5553780515147138, 1.6960330188920514, -1.6652831382843618, 0.4560624330165956, -0.9843467394293298, 3.3966113227763004, -1.6779117958681191, -2.258916380709587, -2.3572586550733456, 1.564674769527423, 0.007153939226451848, -0.2701491558647116, -0.7444321604622405, 7.52131710298795, -1.5064703871176135, -1.0466716919758101, -0.18931569099287918, 1.7014557542807505, -1.7372612004674577, 1.908302297941764, 1.655905374326064, -0.23521084065463016, -0.35962761283020633, 1.748644162661774, -0.32075954270197893, -0.4732302976027646, -0.38543340762521167, -4.482063779335321, -2.97778417048274, 1.3626433340401685, -1.988608179075868, 0.1596579103909125, 0.5439974822426866, 7.231415365262655, 1.7812196344129807, -3.0678080434825934, -1.3303876714966816], \"yaxis\": \"y\"}, {\"hoverlabel\": {\"namelength\": 0}, \"hovertemplate\": \"color=0<br>x=%{x}<br>y=%{y}\", \"legendgroup\": \"color=0\", \"marker\": {\"color\": \"#DC3912\", \"symbol\": \"circle\"}, \"mode\": \"markers\", \"name\": \"color=0\", \"showlegend\": true, \"type\": \"scatter\", \"x\": [9.053755176144529, 4.139947385779473, 3.3898372571434803, 4.330324347245253, 3.1861702679625155, 5.004911440649593, 9.21099215630885, 5.971579078082165, 4.785768296789751, 1.3297981472145062, 4.938340653224864, 2.2918006857083393, 3.276824715700315, 4.774553850987634, -0.3572699335386999, -0.646788864082466, 13.031961354637124, 3.828089481927258, -0.9075887436961866, 2.85799998101633, -0.8289443625388488, 1.3548227145192238, 3.701579744368725, 2.2005344740876795, 2.8741979937106925, 4.66711586767008, 0.02620271307505109, 7.13650136151515, 9.040651745049713, 4.985461751768349, 4.921409616202997, -0.5882658048822524, 2.9672838184315915, 2.233012779511657, 4.983021566213238, 4.487075931889529, 7.605282611445507, 0.5853818449811392, 2.804019305138686, 9.517076465696093, 4.212617551574224, 1.8251952380514855, 2.4685743246537966, 5.398427267972757, -1.8933613387294441, 0.262311258163687, 7.253718035269825, 3.331982282968892, 3.598022049197877, 2.818258432204142, 2.594697995116254, 2.6374759494880426, 5.0322694797183, 1.8371682795520337, 7.158259050648474, 0.8927761932246776, -0.7213086926073323, 4.247169071345428, 1.3334461156570911, 1.3549404313586193, 5.109559407039589, 2.3032997372403887, 3.248176675738718, 0.9975399020332877, -2.366544594875709, -1.0488791439871155, 3.4795999904112005, 2.5064286303466394, 10.931978917187363, 8.60621662208167, 3.373200268934355, 4.787012605541818, 4.023421813074636, 4.581034050284851, 12.876109221868232, 9.044395138422246, 7.3227799230388335, 2.72816884618452, 4.438902263620057, 5.244374253751376, 1.8594366843592853, 3.319512908931817, 4.276690604685311, 4.674879581886938, -0.7203012275095408, 2.535706595532123, 3.518286764795706, 3.4691334526439683, 3.305215150786187, 5.473217763076934, 1.918321775124503, 1.210311009856074, 8.73563082774375, 3.1123554688013155, 1.8902109343714926, 6.352126765569704, -0.23148403820212474, 1.8876548632106054, 2.677263830171974, 3.314879521754916, 0.38565737714673376, 8.109383796281568, 2.8082178839458827, 4.0678838267297355, 4.395096561952159, 6.234278060212311, 3.84052325036138, -0.0001329527729020065, 4.14500838054479, 4.186412491772195, 3.8250701025745646, 3.725175798477494, 3.9122575794480228, 6.373245719766316, 4.968395630464875, -0.40802861067171886, 3.287330986415517, -0.9235595426692428, 1.3721701078681041, 1.7857150679291882, 4.612629220197546, 5.967796439348458, 2.18426999403623, 3.048093167913535, 3.329289048223969, 3.416131720286836, 6.174581216493569, 2.7258532926268355, 3.7821421207885058, 4.758889100935297, -1.9340167019268537, 3.2754727648173025, 1.758235958712109, 6.564056513003837, 4.40014029562558, 4.092551216533718, -2.1215326887839008, 3.878050119345183, 4.686075952162233, 8.369922843516028, 0.4520629879782489, 12.068984492022743, 16.090061766402616, 1.2313210459767294, 1.6625430058423352, 3.338160036814655, 1.0504307393663246, 6.535290469157467, 3.776533407718171, 3.2830457126677164, 4.697759109121195, 2.3792118987166972, -0.19767082175041162, 3.0435280580997293, 6.21260250428547, 0.2804059328826955, 7.326415721976733, 0.3479277875361391, 8.707574870773993, 7.0652078283235875, -0.5223455513963986, 5.010672200432679, 0.6614144692165271, 3.662855077997156, 3.598221660299304, 1.8111794435665316, 2.5888652184149072, 3.349294196535004, 0.728284963841464], \"xaxis\": \"x\", \"y\": [0.47530955364334787, 2.9147636067399842, -2.3651023090210783, -4.03761003413508, 1.47231955514732, -1.1685621583856596, 1.7557608911184512, 3.4879450287546803, 3.1927572878184667, 0.33827380545345215, -4.125567192931314, 1.8952242728259663, -1.7489590242682214, -3.0128538258772806, -0.9661055389705981, -2.0690006418926115, 0.810158192129745, -1.0732760105093235, -2.0502902348255923, 3.2907222108599696, -3.44859688148487, -1.2874610050238255, -1.1121650863156718, 2.2634572046415657, 1.1698194952873067, -2.382946682543911, -3.439216825763075, 1.8553580663018758, 1.9389848156085503, -1.3958619989007193, -2.879520007278509, -0.8818061939291616, 3.910265719322197, 0.9475604991085627, -1.630942002159782, 1.3150666533910156, -3.1085945707510305, 0.41554579193243196, 0.5306443889034334, -5.688547194002752, -5.137046846691321, -4.309705457633895, 3.8279780879477383, -0.22696361784303615, -3.038148845103337, -1.5491928578057788, 9.988438799365674, -1.5784201591555507, 2.137963674216428, 3.4174664159676813, -3.928690790737811, 1.5461631091930335, -1.7694614103545279, 2.758795162292468, -0.03408904160212631, -2.3429088154633764, -2.4354537103657936, 1.1215377684994299, 0.9075206991643252, -1.7889052621607886, -2.0527194947307392, -0.3937973603258429, -0.9897009757330734, -2.2037055311363365, -0.7472413216049029, -3.2190663133449466, -2.2702663995303567, 4.716823944080761, -3.856941360654499, -3.5538979255150505, -2.1043304973804675, -1.5384164824228905, -2.9469327649495893, -0.9043873841097915, 2.0289916983208682, -0.7405570998150479, -0.19649647115550917, -3.9467115056410638, -1.0223281222106864, -6.744240835891708, 0.1230171633078983, -1.1905033327560566, -4.61543550327173, -1.5045356162692012, -1.8895979741216031, -2.546748460048066, -3.8939578016169083, -1.7091611544180614, -3.895400438930916, -4.195780148416763, -2.407630917230441, -2.3852101781379265, 3.207505501725391, -1.2884068845429368, -3.501127238500059, 1.921716589392563, -0.12420759885129269, 0.673428069392946, 0.5626975473128611, -1.726291089592513, -3.5542179858400615, 2.6790139967175475, -0.41301497808241416, 0.495500699632808, -2.153753258431569, 4.946406428517999, 2.2423747534430145, 2.222442842395885, 2.7573303440995183, 0.707507681432988, -1.9530900754889067, -2.8541310559176414, -2.0205434515935545, -1.830912115317677, 3.0110484440282947, -1.3303474396712118, 2.511302822947182, -1.6497150686946425, 2.117396996930122, 2.2817914470901934, 0.2511590246972425, -0.14802807492922887, -2.8371592115422204, -1.8796902644122209, -0.1852028767525889, -3.3880747341541957, -2.0863336476148695, -1.9908836699699097, 0.7892676165291032, 2.968198520607969, -0.37915669862135487, 3.2932120974330386, 1.4967605753458961, -1.5514302184037776, 4.803109249488555, -0.4232245853896896, -1.8460843076327427, 5.885684636260997, -1.0049729570805659, -4.20752977076663, -2.7784716357873895, -7.642017708538253, -7.836423243899463, -1.8229637605978515, -2.0930525952104304, -2.9165818691535557, 0.9465873358389654, 7.879261907732086, 1.059951794023452, 3.930507222404263, -0.19148913961086447, -3.7782086877909, -0.7205135674034824, 0.7030938869184541, -1.4198759463587773, -0.5189787525820353, -5.30353732365111, -0.9372864807448411, -0.6341152247430973, 0.4550333494255886, -1.252454398701752, -1.3536600959635339, 0.6491743731904679, -1.9955594942695076, -2.217394884234156, -0.27892260150348575, 2.5380590405680086, -1.385756387484525, 0.42628657205623055], \"yaxis\": \"y\"}],\n",
              "                        {\"legend\": {\"tracegroupgap\": 0}, \"margin\": {\"t\": 60}, \"template\": {\"data\": {\"bar\": [{\"error_x\": {\"color\": \"#2a3f5f\"}, \"error_y\": {\"color\": \"#2a3f5f\"}, \"marker\": {\"line\": {\"color\": \"#E5ECF6\", \"width\": 0.5}}, \"type\": \"bar\"}], \"barpolar\": [{\"marker\": {\"line\": {\"color\": \"#E5ECF6\", \"width\": 0.5}}, \"type\": \"barpolar\"}], \"carpet\": [{\"aaxis\": {\"endlinecolor\": \"#2a3f5f\", \"gridcolor\": \"white\", \"linecolor\": \"white\", \"minorgridcolor\": \"white\", \"startlinecolor\": \"#2a3f5f\"}, \"baxis\": {\"endlinecolor\": \"#2a3f5f\", \"gridcolor\": \"white\", \"linecolor\": \"white\", \"minorgridcolor\": \"white\", \"startlinecolor\": \"#2a3f5f\"}, \"type\": \"carpet\"}], \"choropleth\": [{\"colorbar\": {\"outlinewidth\": 0, \"ticks\": \"\"}, \"type\": \"choropleth\"}], \"contour\": [{\"colorbar\": {\"outlinewidth\": 0, \"ticks\": \"\"}, \"colorscale\": [[0.0, \"#0d0887\"], [0.1111111111111111, \"#46039f\"], [0.2222222222222222, \"#7201a8\"], [0.3333333333333333, \"#9c179e\"], [0.4444444444444444, \"#bd3786\"], [0.5555555555555556, \"#d8576b\"], [0.6666666666666666, \"#ed7953\"], [0.7777777777777778, \"#fb9f3a\"], [0.8888888888888888, \"#fdca26\"], [1.0, \"#f0f921\"]], \"type\": \"contour\"}], \"contourcarpet\": [{\"colorbar\": {\"outlinewidth\": 0, \"ticks\": \"\"}, \"type\": \"contourcarpet\"}], \"heatmap\": [{\"colorbar\": {\"outlinewidth\": 0, \"ticks\": \"\"}, \"colorscale\": [[0.0, \"#0d0887\"], [0.1111111111111111, \"#46039f\"], [0.2222222222222222, \"#7201a8\"], [0.3333333333333333, \"#9c179e\"], [0.4444444444444444, \"#bd3786\"], [0.5555555555555556, \"#d8576b\"], [0.6666666666666666, \"#ed7953\"], [0.7777777777777778, \"#fb9f3a\"], [0.8888888888888888, \"#fdca26\"], [1.0, \"#f0f921\"]], \"type\": \"heatmap\"}], \"heatmapgl\": [{\"colorbar\": {\"outlinewidth\": 0, \"ticks\": \"\"}, \"colorscale\": [[0.0, \"#0d0887\"], [0.1111111111111111, \"#46039f\"], [0.2222222222222222, \"#7201a8\"], [0.3333333333333333, \"#9c179e\"], [0.4444444444444444, \"#bd3786\"], [0.5555555555555556, \"#d8576b\"], [0.6666666666666666, \"#ed7953\"], [0.7777777777777778, \"#fb9f3a\"], [0.8888888888888888, \"#fdca26\"], [1.0, \"#f0f921\"]], \"type\": \"heatmapgl\"}], \"histogram\": [{\"marker\": {\"colorbar\": {\"outlinewidth\": 0, \"ticks\": \"\"}}, \"type\": \"histogram\"}], \"histogram2d\": [{\"colorbar\": {\"outlinewidth\": 0, \"ticks\": \"\"}, \"colorscale\": [[0.0, \"#0d0887\"], [0.1111111111111111, \"#46039f\"], [0.2222222222222222, \"#7201a8\"], [0.3333333333333333, \"#9c179e\"], [0.4444444444444444, \"#bd3786\"], [0.5555555555555556, \"#d8576b\"], [0.6666666666666666, \"#ed7953\"], [0.7777777777777778, \"#fb9f3a\"], [0.8888888888888888, \"#fdca26\"], [1.0, \"#f0f921\"]], \"type\": \"histogram2d\"}], \"histogram2dcontour\": [{\"colorbar\": {\"outlinewidth\": 0, \"ticks\": \"\"}, \"colorscale\": [[0.0, \"#0d0887\"], [0.1111111111111111, \"#46039f\"], [0.2222222222222222, \"#7201a8\"], [0.3333333333333333, \"#9c179e\"], [0.4444444444444444, \"#bd3786\"], [0.5555555555555556, \"#d8576b\"], [0.6666666666666666, \"#ed7953\"], [0.7777777777777778, \"#fb9f3a\"], [0.8888888888888888, \"#fdca26\"], [1.0, \"#f0f921\"]], \"type\": \"histogram2dcontour\"}], \"mesh3d\": [{\"colorbar\": {\"outlinewidth\": 0, \"ticks\": \"\"}, \"type\": \"mesh3d\"}], \"parcoords\": [{\"line\": {\"colorbar\": {\"outlinewidth\": 0, \"ticks\": \"\"}}, \"type\": \"parcoords\"}], \"pie\": [{\"automargin\": true, \"type\": \"pie\"}], \"scatter\": [{\"marker\": {\"colorbar\": {\"outlinewidth\": 0, \"ticks\": \"\"}}, \"type\": \"scatter\"}], \"scatter3d\": [{\"line\": {\"colorbar\": {\"outlinewidth\": 0, \"ticks\": \"\"}}, \"marker\": {\"colorbar\": {\"outlinewidth\": 0, \"ticks\": \"\"}}, \"type\": \"scatter3d\"}], \"scattercarpet\": [{\"marker\": {\"colorbar\": {\"outlinewidth\": 0, \"ticks\": \"\"}}, \"type\": \"scattercarpet\"}], \"scattergeo\": [{\"marker\": {\"colorbar\": {\"outlinewidth\": 0, \"ticks\": \"\"}}, \"type\": \"scattergeo\"}], \"scattergl\": [{\"marker\": {\"colorbar\": {\"outlinewidth\": 0, \"ticks\": \"\"}}, \"type\": \"scattergl\"}], \"scattermapbox\": [{\"marker\": {\"colorbar\": {\"outlinewidth\": 0, \"ticks\": \"\"}}, \"type\": \"scattermapbox\"}], \"scatterpolar\": [{\"marker\": {\"colorbar\": {\"outlinewidth\": 0, \"ticks\": \"\"}}, \"type\": \"scatterpolar\"}], \"scatterpolargl\": [{\"marker\": {\"colorbar\": {\"outlinewidth\": 0, \"ticks\": \"\"}}, \"type\": \"scatterpolargl\"}], \"scatterternary\": [{\"marker\": {\"colorbar\": {\"outlinewidth\": 0, \"ticks\": \"\"}}, \"type\": \"scatterternary\"}], \"surface\": [{\"colorbar\": {\"outlinewidth\": 0, \"ticks\": \"\"}, \"colorscale\": [[0.0, \"#0d0887\"], [0.1111111111111111, \"#46039f\"], [0.2222222222222222, \"#7201a8\"], [0.3333333333333333, \"#9c179e\"], [0.4444444444444444, \"#bd3786\"], [0.5555555555555556, \"#d8576b\"], [0.6666666666666666, \"#ed7953\"], [0.7777777777777778, \"#fb9f3a\"], [0.8888888888888888, \"#fdca26\"], [1.0, \"#f0f921\"]], \"type\": \"surface\"}], \"table\": [{\"cells\": {\"fill\": {\"color\": \"#EBF0F8\"}, \"line\": {\"color\": \"white\"}}, \"header\": {\"fill\": {\"color\": \"#C8D4E3\"}, \"line\": {\"color\": \"white\"}}, \"type\": \"table\"}]}, \"layout\": {\"annotationdefaults\": {\"arrowcolor\": \"#2a3f5f\", \"arrowhead\": 0, \"arrowwidth\": 1}, \"coloraxis\": {\"colorbar\": {\"outlinewidth\": 0, \"ticks\": \"\"}}, \"colorscale\": {\"diverging\": [[0, \"#8e0152\"], [0.1, \"#c51b7d\"], [0.2, \"#de77ae\"], [0.3, \"#f1b6da\"], [0.4, \"#fde0ef\"], [0.5, \"#f7f7f7\"], [0.6, \"#e6f5d0\"], [0.7, \"#b8e186\"], [0.8, \"#7fbc41\"], [0.9, \"#4d9221\"], [1, \"#276419\"]], \"sequential\": [[0.0, \"#0d0887\"], [0.1111111111111111, \"#46039f\"], [0.2222222222222222, \"#7201a8\"], [0.3333333333333333, \"#9c179e\"], [0.4444444444444444, \"#bd3786\"], [0.5555555555555556, \"#d8576b\"], [0.6666666666666666, \"#ed7953\"], [0.7777777777777778, \"#fb9f3a\"], [0.8888888888888888, \"#fdca26\"], [1.0, \"#f0f921\"]], \"sequentialminus\": [[0.0, \"#0d0887\"], [0.1111111111111111, \"#46039f\"], [0.2222222222222222, \"#7201a8\"], [0.3333333333333333, \"#9c179e\"], [0.4444444444444444, \"#bd3786\"], [0.5555555555555556, \"#d8576b\"], [0.6666666666666666, \"#ed7953\"], [0.7777777777777778, \"#fb9f3a\"], [0.8888888888888888, \"#fdca26\"], [1.0, \"#f0f921\"]]}, \"colorway\": [\"#636efa\", \"#EF553B\", \"#00cc96\", \"#ab63fa\", \"#FFA15A\", \"#19d3f3\", \"#FF6692\", \"#B6E880\", \"#FF97FF\", \"#FECB52\"], \"font\": {\"color\": \"#2a3f5f\"}, \"geo\": {\"bgcolor\": \"white\", \"lakecolor\": \"white\", \"landcolor\": \"#E5ECF6\", \"showlakes\": true, \"showland\": true, \"subunitcolor\": \"white\"}, \"hoverlabel\": {\"align\": \"left\"}, \"hovermode\": \"closest\", \"mapbox\": {\"style\": \"light\"}, \"paper_bgcolor\": \"white\", \"plot_bgcolor\": \"#E5ECF6\", \"polar\": {\"angularaxis\": {\"gridcolor\": \"white\", \"linecolor\": \"white\", \"ticks\": \"\"}, \"bgcolor\": \"#E5ECF6\", \"radialaxis\": {\"gridcolor\": \"white\", \"linecolor\": \"white\", \"ticks\": \"\"}}, \"scene\": {\"xaxis\": {\"backgroundcolor\": \"#E5ECF6\", \"gridcolor\": \"white\", \"gridwidth\": 2, \"linecolor\": \"white\", \"showbackground\": true, \"ticks\": \"\", \"zerolinecolor\": \"white\"}, \"yaxis\": {\"backgroundcolor\": \"#E5ECF6\", \"gridcolor\": \"white\", \"gridwidth\": 2, \"linecolor\": \"white\", \"showbackground\": true, \"ticks\": \"\", \"zerolinecolor\": \"white\"}, \"zaxis\": {\"backgroundcolor\": \"#E5ECF6\", \"gridcolor\": \"white\", \"gridwidth\": 2, \"linecolor\": \"white\", \"showbackground\": true, \"ticks\": \"\", \"zerolinecolor\": \"white\"}}, \"shapedefaults\": {\"line\": {\"color\": \"#2a3f5f\"}}, \"ternary\": {\"aaxis\": {\"gridcolor\": \"white\", \"linecolor\": \"white\", \"ticks\": \"\"}, \"baxis\": {\"gridcolor\": \"white\", \"linecolor\": \"white\", \"ticks\": \"\"}, \"bgcolor\": \"#E5ECF6\", \"caxis\": {\"gridcolor\": \"white\", \"linecolor\": \"white\", \"ticks\": \"\"}}, \"title\": {\"x\": 0.05}, \"xaxis\": {\"automargin\": true, \"gridcolor\": \"white\", \"linecolor\": \"white\", \"ticks\": \"\", \"title\": {\"standoff\": 15}, \"zerolinecolor\": \"white\", \"zerolinewidth\": 2}, \"yaxis\": {\"automargin\": true, \"gridcolor\": \"white\", \"linecolor\": \"white\", \"ticks\": \"\", \"title\": {\"standoff\": 15}, \"zerolinecolor\": \"white\", \"zerolinewidth\": 2}}}, \"xaxis\": {\"anchor\": \"y\", \"domain\": [0.0, 1.0], \"title\": {\"text\": \"x\"}}, \"yaxis\": {\"anchor\": \"x\", \"domain\": [0.0, 1.0], \"title\": {\"text\": \"y\"}}},\n",
              "                        {\"responsive\": true}\n",
              "                    ).then(function(){\n",
              "                            \n",
              "var gd = document.getElementById('d86a8b67-ff26-4e68-98cc-af6d5c7d048e');\n",
              "var x = new MutationObserver(function (mutations, observer) {{\n",
              "        var display = window.getComputedStyle(gd).display;\n",
              "        if (!display || display === 'none') {{\n",
              "            console.log([gd, 'removed!']);\n",
              "            Plotly.purge(gd);\n",
              "            observer.disconnect();\n",
              "        }}\n",
              "}});\n",
              "\n",
              "// Listen for the removal of the full notebook cells\n",
              "var notebookContainer = gd.closest('#notebook-container');\n",
              "if (notebookContainer) {{\n",
              "    x.observe(notebookContainer, {childList: true});\n",
              "}}\n",
              "\n",
              "// Listen for the clearing of the current output cell\n",
              "var outputEl = gd.closest('.output');\n",
              "if (outputEl) {{\n",
              "    x.observe(outputEl, {childList: true});\n",
              "}}\n",
              "\n",
              "                        })\n",
              "                };\n",
              "                \n",
              "            </script>\n",
              "        </div>\n",
              "</body>\n",
              "</html>"
            ]
          },
          "metadata": {
            "tags": []
          }
        }
      ]
    },
    {
      "cell_type": "code",
      "metadata": {
        "id": "lcsOkGQi1VHX"
      },
      "source": [
        "#tranforming in 3D\n",
        "\n",
        "pca= PCA(n_components=3)\n",
        "X_train_trf = pca.fit_transform(X_train)\n",
        "X_test_trf = pca.transform(X_test)"
      ],
      "execution_count": null,
      "outputs": []
    },
    {
      "cell_type": "code",
      "metadata": {
        "colab": {
          "base_uri": "https://localhost:8080/"
        },
        "id": "Jip9ZAel2cuh",
        "outputId": "3f2296d6-2f1b-4d58-f27c-3b7e51f11da0"
      },
      "source": [
        "X_train_trf"
      ],
      "execution_count": null,
      "outputs": [
        {
          "output_type": "execute_result",
          "data": {
            "text/plain": [
              "array([[ 4.24490333,  9.13142795,  1.5042624 ],\n",
              "       [ 9.05375518,  0.47530955, -3.1982151 ],\n",
              "       [-2.27537401,  3.27847097,  2.81636955],\n",
              "       ...,\n",
              "       [-4.50065362, -3.06780804, -0.0310455 ],\n",
              "       [ 0.72828496,  0.42628657, -2.73093201],\n",
              "       [-3.40392527, -1.33038767, -0.14920956]])"
            ]
          },
          "metadata": {
            "tags": []
          },
          "execution_count": 43
        }
      ]
    },
    {
      "cell_type": "code",
      "metadata": {
        "colab": {
          "base_uri": "https://localhost:8080/",
          "height": 542
        },
        "id": "PrFYODux2F0n",
        "outputId": "00902f99-77a2-4228-e959-9cb2cc60f190"
      },
      "source": [
        "y_train_trf = y_train.astype(str)\n",
        "fig = px.scatter_3d(x = X_train_trf[:,0] ,y = X_train_trf[:,1], z =X_train_trf[:,2],color=y_train_trf)\n",
        "fig.update_layout(margin = dict(l=20, r= 20, t=20, b=20))\n",
        "fig.show()"
      ],
      "execution_count": null,
      "outputs": [
        {
          "output_type": "display_data",
          "data": {
            "text/html": [
              "<html>\n",
              "<head><meta charset=\"utf-8\" /></head>\n",
              "<body>\n",
              "    <div>\n",
              "            <script src=\"https://cdnjs.cloudflare.com/ajax/libs/mathjax/2.7.5/MathJax.js?config=TeX-AMS-MML_SVG\"></script><script type=\"text/javascript\">if (window.MathJax) {MathJax.Hub.Config({SVG: {font: \"STIX-Web\"}});}</script>\n",
              "                <script type=\"text/javascript\">window.PlotlyConfig = {MathJaxConfig: 'local'};</script>\n",
              "        <script src=\"https://cdn.plot.ly/plotly-latest.min.js\"></script>    \n",
              "            <div id=\"d95aa7e9-33f7-4971-92ba-51446eab0900\" class=\"plotly-graph-div\" style=\"height:525px; width:100%;\"></div>\n",
              "            <script type=\"text/javascript\">\n",
              "                \n",
              "                    window.PLOTLYENV=window.PLOTLYENV || {};\n",
              "                    \n",
              "                if (document.getElementById(\"d95aa7e9-33f7-4971-92ba-51446eab0900\")) {\n",
              "                    Plotly.newPlot(\n",
              "                        'd95aa7e9-33f7-4971-92ba-51446eab0900',\n",
              "                        [{\"hoverlabel\": {\"namelength\": 0}, \"hovertemplate\": \"color=1<br>x=%{x}<br>y=%{y}<br>z=%{z}\", \"legendgroup\": \"color=1\", \"marker\": {\"color\": \"#636efa\", \"symbol\": \"circle\"}, \"mode\": \"markers\", \"name\": \"color=1\", \"scene\": \"scene\", \"showlegend\": true, \"type\": \"scatter3d\", \"x\": [4.244903328667078, -2.2753740148331523, -2.5104530304700075, -2.3028479218165194, 2.995608537108106, -3.2114946000535465, -2.3759282515113735, -0.893881292710578, -2.6396671804532823, -3.118666874197916, -2.785086744782218, -3.2855771029369967, -2.0555163199086612, -0.4502040536239553, -2.1862860534806328, 1.2751392256406828, -2.859932463787422, -3.590048362241835, -4.31497472945516, -1.9996822577664102, -3.4551907883166453, -3.6218775012887034, -4.52509274847315, -1.9232931730404927, -3.9983909751002624, -5.445469915696988, -2.1790784362452436, -4.6269632231975, -5.498910653647999, -1.9089719909074214, -3.826957054762418, -0.9906393631023964, -1.2605585712770393, -3.216907369528465, -1.2771499585572723, 1.113343611036043, 0.9984850577316958, -3.050198294922506, -2.218026233378531, 2.0047761792002916, -2.7924547624251272, -1.9038441128491168, -0.3839262588903141, -2.6807189660126696, -1.1313414550525254, -0.5812914928562724, -2.8745990074552488, -2.453191874564493, 1.0270404217085531, -1.1878752727942832, -1.3857219217265997, -2.5149543039540054, -1.454943623604407, -4.652412159073469, -2.9413642795710744, -1.5300232503044586, -3.9854292225862467, -3.772951693898117, -3.2860700247432404, -1.1277206226482068, -2.583579590659984, -3.049002666150704, -3.328565632636643, -0.921140415489438, -2.637009002539251, -3.460668243751747, -1.1826096607287624, -4.588707432220547, -1.307101507266185, -2.8345281872034733, -3.428389410467142, -3.243621446482168, -4.005052846511963, -1.4374872439920916, -2.23695071797793, -2.71057557786887, -2.7703705212159044, -4.74992696426647, -2.860463261763, -1.118256991533488, -1.1179018534482876, -3.4812735075859726, -2.952878796668588, -2.380669598619909, -2.851422288717088, -1.647533493705869, -3.1649278669737333, -3.47401373483346, -2.1273693893438748, -2.3553536500718284, -3.271662848747572, 0.31472653955675756, -2.0944084493778856, -3.8089311492002698, -0.3030898114034101, -1.332177202786678, -0.794240049011447, -3.5213541024437034, -3.706137902992719, -0.7626666390847578, -2.3357068473517693, -5.293751378084191, -1.123034351105655, -2.1359246638536966, -0.17874339096636707, -3.4858505977855208, -0.7027619766893844, -0.3808362978876363, -2.935736137048512, 6.878874911477237, -0.5351367928915197, -3.201040105236472, -3.3415467066577373, -2.0538859244083922, -1.982471817466373, -2.600574033038491, -0.3495675147467927, -4.186742602408749, -2.064093269270927, -2.1828807078296966, -2.2021251610789796, -4.727043541802852, -0.7535512775354314, -2.0159333227779395, -2.9969408937168107, -1.94723671748738, -4.071858740959532, -0.07864245383263388, -4.5782444159015805, -1.3695968949274282, -1.431057835125517, 0.7101398720044924, -1.8710839629396796, -5.336828342177787, 1.5854986972488558, -2.4746239877456677, 0.3686176163393369, -3.0460097254162783, -0.7273737991194509, -2.5511939396229093, -1.7898257616401902, -3.8579055189098694, -3.116398209891448, -2.8165386262450673, -2.685183678614677, -3.207138074255925, -0.053914605893387584, 2.2731352410815124, -1.8613077814082788, -3.1185770431900766, -2.4852460736874455, -2.0167963225311407, -3.039693012435766, -2.426815497016273, 1.327522457983911, 0.39530969188109244, -2.5842130508295327, -2.4526855909610163, -3.325243946969385, -2.190769188355452, 3.5102329713336125, -4.046814408315691, -2.5289802870670366, -2.304034104377342, -3.62887447245533, 0.12568024524682742, -3.8387649800276784, -3.830179654274816, -0.3793584381668624, -2.578714667723588, -2.10246669469172, -3.632500277260903, -2.0158703118843424, -2.918896292253822, -3.9236246742601733, 1.9922934097823108, -2.462793855051513, -3.9899126725518292, -1.1942866952868294, -1.0583711267751774, -4.100621776417535, -3.2053852949599326, 1.167214440874933, -3.120416758107444, -1.2716192304691771, -0.6765852788179226, -1.5165306738306001, -1.9392232023895863, 1.3293163979489395, -1.393116993389405, -4.658521888174083, -2.460549718063977, -2.395868503136669, -1.6656060405891349, -3.280050595376606, -1.2401936470251975, -0.9228823999740283, -2.265907717116591, -3.146779860768136, -2.1984189828381466, -0.12706015627305894, -3.784378350034682, -4.966313980659458, -3.2915106237165617, -3.3729028639597827, -2.9785498813366047, -1.9281819948408176, -1.2022148271334248, -2.0999651263910364, -3.8337964446110866, -0.1482948328148355, -3.1626593059618453, -2.7792466279958257, -1.3708818513377403, -2.497090803408524, -1.1156182751724797, -2.002051536045527, -4.612998261819082, -1.422379413663115, -2.1652727247268495, -1.5837155263098137, 0.39628724831915146, -2.894530098458384, -3.5239742186424583, 1.4443571557452008, -2.860566673897834, -3.1246468079157084, -2.1161782532421385, -2.796266095536814, -4.039907200931225, -0.35915209448090213, -1.9218576516048067, -1.8218025440996903, -3.4159076454838777, -4.391590462455624, -3.2825102296229285, 0.4304867655026149, -2.994656349403207, -0.4631115257934529, -1.82518690425081, -3.519528196427505, -4.023811939439511, -0.734725833453598, -2.200142034618731, -1.2079097123406857, -2.7538196499836287, -3.396623605164676, -0.5190617606585263, -4.025311217887394, -2.4096719074120347, -1.5675950299705088, -1.1437868623384084, -2.273517895311808, -2.7960656222619225, -2.3780636168332383, -4.450100118503358, -4.853679210426307, -3.4320151401185965, -3.568629553017919, -4.351465676343224, -0.01239877513274172, -2.1337985726885784, 1.3824905533777083, -1.8582101762631895, -3.33817156164528, -1.9685985902039504, -1.8946417181223365, -3.6982842088684027, -1.9573248283412525, -3.5072754899184617, -4.00164548128621, -4.0452722005290305, -0.5505519884098992, -4.282973202245038, -1.732581824151393, 0.17596374634980255, -1.6745794579247812, -4.655638849402763, -1.8178617049141181, -3.1417416059988206, -0.4105133816621309, -1.5221993926373591, -0.36825203394401884, -0.6866048463324798, -4.500653617542397, -3.4039252744819635], \"y\": [9.131427951711357, 3.2784709705355164, 0.7437426355564937, 2.6651550497776353, 4.204475211388841, -0.3731535209148506, 0.03337879483596525, 0.960683890741081, 1.4629745074997231, -1.4388951432929424, -2.4355225180169766, -0.04265623592183797, -2.426054674593582, 0.13015605419778553, 2.048585382295287, 0.9607210279183951, 0.3922981013118187, 0.7730785929276054, -1.8960252129140835, -0.2321903909078424, -2.088917704473408, -1.1968577998355552, 1.4974446645051822, -0.9398777239006163, -1.2343483460600877, -0.5427743387022574, -1.779181890400943, -0.7139301394260336, -0.2997223319377412, 2.572119445157045, 0.7714616521769471, 0.8492578094455137, 2.540200347545555, -0.9214695341702602, -1.7403274644971947, 6.941558798991661, 2.383616806599809, -2.1459857330589056, -0.6406478667708778, 2.2458160309687187, -0.9222379879005815, -1.0905719482762162, -0.5889372221980026, -0.18730637310467177, -0.5067615645542755, 0.631283890560462, -0.43929197715563056, 3.1986335165897493, 1.0969727146700206, -0.20926472509326305, 0.44083096064353283, -0.7200136489019905, 0.631589566312786, -0.708488023808922, 0.3891064350494088, -1.1346797023902968, 1.156326942205703, -0.2602827833516154, -3.0693300021981713, 5.572560989450492, -1.079398978634115, -0.12440290880156596, -0.5276510336181737, 0.8916014814892895, 2.3046945377366512, 1.8389041975902767, 4.005425440393907, -0.19779814996727701, 3.5215275961990833, -0.46675431226845043, 1.6114221823559074, 0.23913753345966118, -1.2971793781951657, -1.5327065922299514, 0.0046367750335880396, 2.308885536810565, -1.0196207979809053, -0.472851186506835, -0.9176401444642492, 0.9577311484687756, -1.4043189177305306, -1.1250277574546577, -0.610765538212783, 0.9850139047938231, -2.7803669008327656, -0.19052530194169565, -1.7921110321107734, -2.543478813376266, 3.6652842229981926, -0.7204594009424898, 0.4598957592408795, 0.220487386944556, 0.09288399798078975, 0.5560593590449643, 2.2286886979003975, 1.4359701970306862, -1.2725433778895057, -1.2066636335639305, -1.3094625720483717, -2.9663453705571934, -1.5746777107507723, 1.0249118977196945, 1.895394151121599, 0.010474310939306179, 1.4875187476874552, -0.6068233151115002, 1.7410150412574743, -0.7865774502486792, -0.04257466916620477, 12.432342796691621, 3.7013569983552568, -2.159805712147205, 0.7834017625482804, 1.8575358629944179, 0.8086643255915235, -0.6483369595991345, 0.1597119521759591, 0.20399901365633938, 0.3751274657173589, -0.34357818361094955, -0.45339567278397497, -1.7332888934699144, -2.107328758477019, -0.8004647044197801, 1.15353939103078, 1.3183736814756, 2.3388541242741288, 2.2827034813888885, -2.6669444345653712, 0.2734533911526501, 1.6939242359654654, 3.349785667826999, 0.8773627425154886, 0.6071805579971544, 6.474167800549611, -2.2770828530972507, 1.0986025054921016, -2.076948408163136, -0.09241315796189069, 0.2460248463044151, -0.09031659708235462, 1.216641746530827, -0.7087276146125362, -0.24013378255305778, 0.6012459189349628, -1.091305330963077, -0.16372708731767094, 4.3560587094062475, 1.4067544426752576, -1.8267890630763404, -1.98612355457264, 1.775710580951926, 0.30069336212792463, -0.31287712342057844, 2.150457212424527, 2.096871176555848, -1.7686362796967348, -1.1247518829502685, -0.7907236740482204, 0.11595421112313202, 3.9527856851745384, -1.2069568545184985, 2.480584865310181, 0.7126715647329435, 4.27488687652434, 7.088379441772391, 0.7896339268620888, -1.4827608342406617, 2.136884852467375, -0.40315135491485077, -1.1784971148991576, -1.1676715994749656, 0.3170271968084503, 0.3559299310386761, -1.9606618535611087, 6.422098278157469, -1.368454044367548, 1.0496713960040427, -1.3122596141481218, 1.3893319578005636, -1.3256806340715246, 1.298284257003817, 8.066599397927552, -0.9707041650880485, 0.8309569905027089, -1.5628223913995256, -1.0482622493437173, -1.8123376970313174, 4.777705366537848, -1.7199591456095618, -1.0523628899355857, 0.08767771126843661, 0.9067151685833169, 0.9619132796953701, 0.0062192143955600195, -1.5018659056988508, 0.3969071045721331, 0.7731900547720125, -1.6087392271804861, -1.1973865389034655, -0.12903100144728008, 0.9003250508271877, -3.2398343407141006, 2.6398773585762414, 1.2893125064923743, 1.6632580688479397, -0.5626996586670652, 1.5812514725326368, 1.5515230408434582, 0.539414866441378, 1.046662196629025, 0.6058455984385328, 0.36413349788085014, 1.3439502212006058, 3.0890804652100785, -1.9551165101424544, -1.0110834460628462, -1.7454181148947827, 0.13445914974385292, 1.285895691135266, 0.29254234518680866, 3.7225195893443965, -0.007844402432803124, 2.5468950333813907, 1.2504370636051656, -1.364179248941279, -1.7452520213521594, 0.9065609270841651, -0.36938011758934813, -0.5257587744149245, 2.266381198515108, -0.14121707550463447, -0.883714104763171, -0.4677851128288534, -0.7149241261874275, -1.428359675407391, 3.4686470074275664, -0.6165602328767155, -0.12748242932491632, -1.4641088611741828, 0.9129111022118747, -1.3016717806839369, 3.1417828598644943, -1.2549302013893922, 1.0900102032642862, 1.1577189172481066, -0.9579521669567204, -0.9072415183656277, -2.4717559012253214, 0.5553780515147138, 1.6960330188920514, -1.6652831382843618, 0.4560624330165956, -0.9843467394293298, 3.3966113227763004, -1.6779117958681191, -2.258916380709587, -2.3572586550733456, 1.564674769527423, 0.007153939226451848, -0.2701491558647116, -0.7444321604622405, 7.52131710298795, -1.5064703871176135, -1.0466716919758101, -0.18931569099287918, 1.7014557542807505, -1.7372612004674577, 1.908302297941764, 1.655905374326064, -0.23521084065463016, -0.35962761283020633, 1.748644162661774, -0.32075954270197893, -0.4732302976027646, -0.38543340762521167, -4.482063779335321, -2.97778417048274, 1.3626433340401685, -1.988608179075868, 0.1596579103909125, 0.5439974822426866, 7.231415365262655, 1.7812196344129807, -3.0678080434825934, -1.3303876714966816], \"z\": [1.5042624034807712, 2.816369549845668, -0.7360343113863418, 1.192884666701275, 5.896397879163398, -0.6389756381765305, -0.7787766874515587, -0.12752909727365408, 0.28785097589565495, -1.097768033556626, -0.7675609601047052, -0.3010383732908117, -1.2527925046949273, -1.0647918612138862, 2.1910099807553274, 0.0016814175321004782, -0.921182482656548, -1.0511702234621352, -0.040557200285377445, 0.6956069442502989, 0.32045353342304744, 1.48395382611621, 0.03712558464886072, -0.10039104782387251, -0.4226247741383199, 1.4211139769314696, -0.34359623100108366, 0.26571613777758996, 4.082715156157469, -0.9632390730152479, 0.9576560805103335, 2.367044413998937, -0.05693626502203454, 0.24245095098573546, 0.3003593000428826, 4.179162449574164, -1.444307632531863, -0.35098289644700154, 0.37110607607070645, 1.2755909800643395, -0.296468726067576, 0.41560829353432827, -1.2001352755900527, -0.2974289477063612, -0.3879292658191584, -0.5141930194081565, -1.102712955255925, -1.7029020764757046, -0.7093814078607503, -0.536525597519374, 2.483114123386953, -1.546780747589916, 1.1764608312868237, 1.5043354156554358, 1.1855535413290912, -0.42322074974133717, 0.19093133162532447, -0.9329354747203867, 0.26203086689299804, 1.0671810961940855, -1.1150328341259819, 0.6602025167103611, -0.21127396362327985, -0.8380240450949176, -0.06481738381622193, 2.6506362329185977, -0.5089661067580735, 1.5669973519068334, 1.6042739898711167, -0.45978342457797794, 2.636434607186395, -0.5438734402539973, 3.22420484603642, 0.2883693412378246, -0.41522475178672885, 0.2773749901921426, 0.8132393733447949, 1.0650210107768945, -0.8593334559576983, -0.7309863038969391, -0.4244221633802439, 3.114107026403852, -0.5860946403650915, -0.629625411373588, 0.6449741859504944, -0.1590624197711893, 0.1346932629248957, -0.016421246978154655, 3.610910471000219, -1.3641324337489718, -0.8830958332677946, -1.0071138104451698, -1.4282484265515565, 0.8871551119427759, 0.020811056571298062, -0.39295867937443885, 0.36493175470259953, 0.9994132393981194, 1.7368969190388877, 1.4864458420841764, 0.23188142037628587, 0.3736744173048932, 1.7908276502111742, 0.0831418961399502, -2.19209729468471, 0.5820972643824575, 1.0020615992255273, -1.0772304076394612, -0.7500204717990818, 7.316104765738845, 2.013062221710143, -0.03647335085100349, 1.6742950939441705, -0.6529127993732958, 0.08876964991276258, -0.5320902097371196, -0.9530147466044594, -0.3169523822796094, 0.023423381086758975, -1.0739833557456753, -0.4538520560981945, 0.32265977297557086, 0.32214111255074857, 2.6341161570290046, 0.2796487720662765, 1.1398821190418877, -1.1924698625335242, 1.992152359661678, 1.062608766506656, 0.46832901084807305, 1.1542165760686078, 0.438644719254372, -0.0585080250449817, 0.6248983817849771, 2.0910260789253767, -0.3779354927915911, 2.2776072748610323, -0.38272780056969113, -0.9889874431112832, 1.0321767719245067, -1.3664061321050816, 1.4137398766726486, -0.7825397944490632, -0.4836734490410417, 1.8042190160406602, 0.2916798610966709, -1.5568815276284882, 1.8354008338125922, -0.07306530125565897, -0.6049952624553496, -0.5397016870922793, -1.1306304571188286, 2.1496392912196356, -1.4072596130819126, -0.7852472322919918, 0.6596269578373816, 0.7401959671175976, 0.3022351475631216, -0.7072147819904597, 0.4466953917564641, 2.132913524656981, 0.674081593702714, 2.154454127140925, 1.0503462341612897, 3.700282121980803, -0.23718294043866872, 2.0468615159719477, -1.0260971093769993, -0.931770566501352, 1.8077132193459449, 0.5449029171654843, 0.18707708107380244, -0.5976537359310355, -1.9297034032975082, 0.7567194655159138, 1.2641897879167052, -0.2624566781672976, 0.18464134517248432, -0.775022321970555, 1.221663021061947, 0.8998917417210303, -0.23062509221457647, 0.2685188125116681, -1.456038469211739, 0.9769309652223516, -0.5512083171631732, -1.2247664705895616, -0.24073651359826342, -0.6928302086832187, -1.2959640011187683, -0.127751015581941, -0.4101450620560032, 0.27779615480717046, -0.11715545443248823, 0.3989532557094398, -0.2923296816943567, -1.340980343410311, -0.39526554296993377, -0.39722143024837764, -0.10833000746787681, 0.4193316670040363, 0.6424209335819584, 0.47513929533304855, -1.7455438734494144, -0.10539289538321947, 2.5826294496919595, 1.5329609537055353, -1.3881738225074967, 0.11195054449403682, -0.8595672027870649, -0.7117580323008401, 0.4443784704787549, -1.2350832450511655, -0.8036031189116746, 1.1882023724631396, -1.1067575865451535, 1.2944848529304764, 0.1405204528424595, -0.2920351232361619, -0.8446302122455571, -1.4574483461747347, 4.4946713971486885, -0.7672436850565398, 1.6875202425570313, 0.6603339440157782, 0.5931755912466505, 0.07008385944993159, -0.23785842083817058, -0.3185693894603505, 2.2703001228819235, 0.5711376689925655, 0.3844234382833954, -0.7960226333864057, -0.10846587320024001, -0.4717817354767351, -0.43650836941643156, -0.21523385040299758, 0.3262655412300187, 0.8818715538143703, 0.5907389008788695, 0.1789245407508851, 0.6279625934668409, 1.3920875585728274, -0.8522587914217913, 0.1168900174793504, 1.723783853314382, -0.6295737512458349, -0.2970681262932053, 0.5033206130378975, -1.0913134891637652, 0.23330570792668273, -0.6337357743880231, 0.16319780873115805, -1.4052163716560782, 3.350515219976875, -0.7510774678656975, -0.06811969510752065, 0.2089723135841488, 0.6441813646886564, -0.7921303763195864, -2.0908688455065554, 0.4001443583489452, -0.7812370436121522, 1.2746989020141184, 0.2549102396616688, -1.5289427243110283, 0.25417910251661413, 1.2984432807060697, -1.947959803337306, 0.49647056836910636, -1.118156883142073, 0.44390549623963005, 1.3725009591681416, 0.4196047667466588, 3.291173436371382, -0.48623120316578966, 0.9424868653504713, 0.12870986228149092, -1.0002400197786343, -0.022136053938968305, -0.5258373252736073, -1.7347957360898933, 3.8056568028700877, -0.6930440617629308, -0.03104549919782431, -0.14920956410501937]}, {\"hoverlabel\": {\"namelength\": 0}, \"hovertemplate\": \"color=0<br>x=%{x}<br>y=%{y}<br>z=%{z}\", \"legendgroup\": \"color=0\", \"marker\": {\"color\": \"#EF553B\", \"symbol\": \"circle\"}, \"mode\": \"markers\", \"name\": \"color=0\", \"scene\": \"scene\", \"showlegend\": true, \"type\": \"scatter3d\", \"x\": [9.053755176144529, 4.139947385779473, 3.3898372571434803, 4.330324347245253, 3.1861702679625155, 5.004911440649593, 9.21099215630885, 5.971579078082165, 4.785768296789751, 1.3297981472145062, 4.938340653224864, 2.2918006857083393, 3.276824715700315, 4.774553850987634, -0.3572699335386999, -0.646788864082466, 13.031961354637124, 3.828089481927258, -0.9075887436961866, 2.85799998101633, -0.8289443625388488, 1.3548227145192238, 3.701579744368725, 2.2005344740876795, 2.8741979937106925, 4.66711586767008, 0.02620271307505109, 7.13650136151515, 9.040651745049713, 4.985461751768349, 4.921409616202997, -0.5882658048822524, 2.9672838184315915, 2.233012779511657, 4.983021566213238, 4.487075931889529, 7.605282611445507, 0.5853818449811392, 2.804019305138686, 9.517076465696093, 4.212617551574224, 1.8251952380514855, 2.4685743246537966, 5.398427267972757, -1.8933613387294441, 0.262311258163687, 7.253718035269825, 3.331982282968892, 3.598022049197877, 2.818258432204142, 2.594697995116254, 2.6374759494880426, 5.0322694797183, 1.8371682795520337, 7.158259050648474, 0.8927761932246776, -0.7213086926073323, 4.247169071345428, 1.3334461156570911, 1.3549404313586193, 5.109559407039589, 2.3032997372403887, 3.248176675738718, 0.9975399020332877, -2.366544594875709, -1.0488791439871155, 3.4795999904112005, 2.5064286303466394, 10.931978917187363, 8.60621662208167, 3.373200268934355, 4.787012605541818, 4.023421813074636, 4.581034050284851, 12.876109221868232, 9.044395138422246, 7.3227799230388335, 2.72816884618452, 4.438902263620057, 5.244374253751376, 1.8594366843592853, 3.319512908931817, 4.276690604685311, 4.674879581886938, -0.7203012275095408, 2.535706595532123, 3.518286764795706, 3.4691334526439683, 3.305215150786187, 5.473217763076934, 1.918321775124503, 1.210311009856074, 8.73563082774375, 3.1123554688013155, 1.8902109343714926, 6.352126765569704, -0.23148403820212474, 1.8876548632106054, 2.677263830171974, 3.314879521754916, 0.38565737714673376, 8.109383796281568, 2.8082178839458827, 4.0678838267297355, 4.395096561952159, 6.234278060212311, 3.84052325036138, -0.0001329527729020065, 4.14500838054479, 4.186412491772195, 3.8250701025745646, 3.725175798477494, 3.9122575794480228, 6.373245719766316, 4.968395630464875, -0.40802861067171886, 3.287330986415517, -0.9235595426692428, 1.3721701078681041, 1.7857150679291882, 4.612629220197546, 5.967796439348458, 2.18426999403623, 3.048093167913535, 3.329289048223969, 3.416131720286836, 6.174581216493569, 2.7258532926268355, 3.7821421207885058, 4.758889100935297, -1.9340167019268537, 3.2754727648173025, 1.758235958712109, 6.564056513003837, 4.40014029562558, 4.092551216533718, -2.1215326887839008, 3.878050119345183, 4.686075952162233, 8.369922843516028, 0.4520629879782489, 12.068984492022743, 16.090061766402616, 1.2313210459767294, 1.6625430058423352, 3.338160036814655, 1.0504307393663246, 6.535290469157467, 3.776533407718171, 3.2830457126677164, 4.697759109121195, 2.3792118987166972, -0.19767082175041162, 3.0435280580997293, 6.21260250428547, 0.2804059328826955, 7.326415721976733, 0.3479277875361391, 8.707574870773993, 7.0652078283235875, -0.5223455513963986, 5.010672200432679, 0.6614144692165271, 3.662855077997156, 3.598221660299304, 1.8111794435665316, 2.5888652184149072, 3.349294196535004, 0.728284963841464], \"y\": [0.47530955364334787, 2.9147636067399842, -2.3651023090210783, -4.03761003413508, 1.47231955514732, -1.1685621583856596, 1.7557608911184512, 3.4879450287546803, 3.1927572878184667, 0.33827380545345215, -4.125567192931314, 1.8952242728259663, -1.7489590242682214, -3.0128538258772806, -0.9661055389705981, -2.0690006418926115, 0.810158192129745, -1.0732760105093235, -2.0502902348255923, 3.2907222108599696, -3.44859688148487, -1.2874610050238255, -1.1121650863156718, 2.2634572046415657, 1.1698194952873067, -2.382946682543911, -3.439216825763075, 1.8553580663018758, 1.9389848156085503, -1.3958619989007193, -2.879520007278509, -0.8818061939291616, 3.910265719322197, 0.9475604991085627, -1.630942002159782, 1.3150666533910156, -3.1085945707510305, 0.41554579193243196, 0.5306443889034334, -5.688547194002752, -5.137046846691321, -4.309705457633895, 3.8279780879477383, -0.22696361784303615, -3.038148845103337, -1.5491928578057788, 9.988438799365674, -1.5784201591555507, 2.137963674216428, 3.4174664159676813, -3.928690790737811, 1.5461631091930335, -1.7694614103545279, 2.758795162292468, -0.03408904160212631, -2.3429088154633764, -2.4354537103657936, 1.1215377684994299, 0.9075206991643252, -1.7889052621607886, -2.0527194947307392, -0.3937973603258429, -0.9897009757330734, -2.2037055311363365, -0.7472413216049029, -3.2190663133449466, -2.2702663995303567, 4.716823944080761, -3.856941360654499, -3.5538979255150505, -2.1043304973804675, -1.5384164824228905, -2.9469327649495893, -0.9043873841097915, 2.0289916983208682, -0.7405570998150479, -0.19649647115550917, -3.9467115056410638, -1.0223281222106864, -6.744240835891708, 0.1230171633078983, -1.1905033327560566, -4.61543550327173, -1.5045356162692012, -1.8895979741216031, -2.546748460048066, -3.8939578016169083, -1.7091611544180614, -3.895400438930916, -4.195780148416763, -2.407630917230441, -2.3852101781379265, 3.207505501725391, -1.2884068845429368, -3.501127238500059, 1.921716589392563, -0.12420759885129269, 0.673428069392946, 0.5626975473128611, -1.726291089592513, -3.5542179858400615, 2.6790139967175475, -0.41301497808241416, 0.495500699632808, -2.153753258431569, 4.946406428517999, 2.2423747534430145, 2.222442842395885, 2.7573303440995183, 0.707507681432988, -1.9530900754889067, -2.8541310559176414, -2.0205434515935545, -1.830912115317677, 3.0110484440282947, -1.3303474396712118, 2.511302822947182, -1.6497150686946425, 2.117396996930122, 2.2817914470901934, 0.2511590246972425, -0.14802807492922887, -2.8371592115422204, -1.8796902644122209, -0.1852028767525889, -3.3880747341541957, -2.0863336476148695, -1.9908836699699097, 0.7892676165291032, 2.968198520607969, -0.37915669862135487, 3.2932120974330386, 1.4967605753458961, -1.5514302184037776, 4.803109249488555, -0.4232245853896896, -1.8460843076327427, 5.885684636260997, -1.0049729570805659, -4.20752977076663, -2.7784716357873895, -7.642017708538253, -7.836423243899463, -1.8229637605978515, -2.0930525952104304, -2.9165818691535557, 0.9465873358389654, 7.879261907732086, 1.059951794023452, 3.930507222404263, -0.19148913961086447, -3.7782086877909, -0.7205135674034824, 0.7030938869184541, -1.4198759463587773, -0.5189787525820353, -5.30353732365111, -0.9372864807448411, -0.6341152247430973, 0.4550333494255886, -1.252454398701752, -1.3536600959635339, 0.6491743731904679, -1.9955594942695076, -2.217394884234156, -0.27892260150348575, 2.5380590405680086, -1.385756387484525, 0.42628657205623055], \"z\": [-3.1982150987020193, -3.298221509099181, -1.162863046786739, -0.19753796647125296, -2.6586726685261426, -2.5957691307964734, -0.9886802829830345, -3.4415864157450904, -1.3693034308216545, -3.844805854915021, -0.3312025517145947, -2.3540508992525266, -1.9123866102212146, 2.7430388139045725, -2.5609219941308465, -1.4285163561751906, 0.5788050448691906, 0.782547602947535, 1.265415959519992, -0.9599241339233021, 0.14098223490507159, 0.5623029548966086, 0.5601888557043327, -1.005252007101696, -2.0435381958362315, -0.7329563009769615, 0.35410093781619206, -0.04022239194126093, 2.0997319063399638, -1.586438549142392, 0.9052700555827691, -2.240832562183438, -3.0465569824158205, -2.0030230201932313, -1.78578689086328, -2.372594925389128, 1.5313859436489552, -0.5708683447166721, -0.632504012056631, -0.6256881383265016, -0.7883176735571136, 0.4366279090073358, -2.969116715698518, -1.6016983020167481, -1.0216498288218678, -0.8527331143264903, -3.3817006347613785, 1.242035059177474, -3.966142300852034, -2.581848439018115, 1.4140127657747616, -0.2696370260731732, 1.0925125531182691, -1.1977610212420056, 1.9268097709916852, 0.6151810356393154, -1.8886889312639326, -1.625654727526242, -1.6202145558671157, -1.617771686130072, -0.7425180850290719, -1.1512621585739091, 2.5338779437982653, -1.570394216909667, 1.946088753550628, 4.214170717831511, -1.237582270639169, -1.052183304950955, -0.7790204862897008, -0.12011857725183785, -1.3776467965023422, -1.2610922965674831, 1.6821346605718663, -0.527925927654099, 6.094089710178151, 0.1107920667336971, -2.894219934653781, 0.014749752030554798, 1.3618906463517892, 1.5671974215583562, -2.652926689505106, 0.839040717733215, -0.1849636475980083, -1.2289413034667267, -0.2656899416948855, 0.6708436056755727, -0.926051019741263, 0.7016649642941896, -0.28079086184995133, -0.5248762098352495, -1.6136824839944999, 2.538531307482473, 2.6989374247475526, 1.263127440947153, 1.3349250855316228, -3.2249973820960167, -3.3231005279200923, -1.6208627589177842, -1.9582769645688312, 0.13775435765274896, -2.115052230861727, 5.629793638741642, -1.9045381677814952, -2.885666219997082, 0.555720725557723, 0.4742039170975302, 0.03744553226129206, -2.113217203397441, -0.7120118568728944, -0.9674919791481267, -1.7238243632520607, -1.6900274101391017, 1.4952659639242014, 0.37508554172747166, -1.771619839494549, -0.19895884019076596, 6.823934631094581, -0.3824857844313753, -1.7933385403119844, -3.1449381412504307, -0.8987349751084247, 1.6355503519026429, -0.5951782083529622, 2.528095143624467, -2.8990746864099695, -1.8822276525776533, -1.512428520071624, -0.9622836526217763, 3.6399834174069476, -0.2595456407334921, -0.49264404367942044, -3.2408122790663287, -1.9700737854263801, 0.3800167423719464, -2.9177695705353304, 1.3992100728591725, -1.1729701638467158, -5.019175662132086, -0.3543890552336251, -0.007992957379552938, 0.4919673286952708, 10.170418124820506, 6.220521984264876, 0.48249256971570864, -0.9253955352172593, 3.137414129552912, -2.343336392706658, -0.46509845090845214, -3.834662421985807, -2.75087265554217, 3.6116311933218195, -0.4179051149500319, -2.1585336275778277, -3.4486672245293617, 2.6085371029000517, 0.5493468844844618, 0.2971041848223832, 1.670989354373064, 0.8523785842490178, -1.2545883489990735, 0.893050604603821, 0.8052559255963144, -0.29564750379129195, -0.7089218000339004, -1.6887064902527176, -1.6283990479753383, 0.024030676118267952, 0.718043602921937, -2.7309320122454497]}],\n",
              "                        {\"legend\": {\"tracegroupgap\": 0}, \"margin\": {\"b\": 20, \"l\": 20, \"r\": 20, \"t\": 20}, \"scene\": {\"domain\": {\"x\": [0.0, 1.0], \"y\": [0.0, 1.0]}, \"xaxis\": {\"title\": {\"text\": \"x\"}}, \"yaxis\": {\"title\": {\"text\": \"y\"}}, \"zaxis\": {\"title\": {\"text\": \"z\"}}}, \"template\": {\"data\": {\"bar\": [{\"error_x\": {\"color\": \"#2a3f5f\"}, \"error_y\": {\"color\": \"#2a3f5f\"}, \"marker\": {\"line\": {\"color\": \"#E5ECF6\", \"width\": 0.5}}, \"type\": \"bar\"}], \"barpolar\": [{\"marker\": {\"line\": {\"color\": \"#E5ECF6\", \"width\": 0.5}}, \"type\": \"barpolar\"}], \"carpet\": [{\"aaxis\": {\"endlinecolor\": \"#2a3f5f\", \"gridcolor\": \"white\", \"linecolor\": \"white\", \"minorgridcolor\": \"white\", \"startlinecolor\": \"#2a3f5f\"}, \"baxis\": {\"endlinecolor\": \"#2a3f5f\", \"gridcolor\": \"white\", \"linecolor\": \"white\", \"minorgridcolor\": \"white\", \"startlinecolor\": \"#2a3f5f\"}, \"type\": \"carpet\"}], \"choropleth\": [{\"colorbar\": {\"outlinewidth\": 0, \"ticks\": \"\"}, \"type\": \"choropleth\"}], \"contour\": [{\"colorbar\": {\"outlinewidth\": 0, \"ticks\": \"\"}, \"colorscale\": [[0.0, \"#0d0887\"], [0.1111111111111111, \"#46039f\"], [0.2222222222222222, \"#7201a8\"], [0.3333333333333333, \"#9c179e\"], [0.4444444444444444, \"#bd3786\"], [0.5555555555555556, \"#d8576b\"], [0.6666666666666666, \"#ed7953\"], [0.7777777777777778, \"#fb9f3a\"], [0.8888888888888888, \"#fdca26\"], [1.0, \"#f0f921\"]], \"type\": \"contour\"}], \"contourcarpet\": [{\"colorbar\": {\"outlinewidth\": 0, \"ticks\": \"\"}, \"type\": \"contourcarpet\"}], \"heatmap\": [{\"colorbar\": {\"outlinewidth\": 0, \"ticks\": \"\"}, \"colorscale\": [[0.0, \"#0d0887\"], [0.1111111111111111, \"#46039f\"], [0.2222222222222222, \"#7201a8\"], [0.3333333333333333, \"#9c179e\"], [0.4444444444444444, \"#bd3786\"], [0.5555555555555556, \"#d8576b\"], [0.6666666666666666, \"#ed7953\"], [0.7777777777777778, \"#fb9f3a\"], [0.8888888888888888, \"#fdca26\"], [1.0, \"#f0f921\"]], \"type\": \"heatmap\"}], \"heatmapgl\": [{\"colorbar\": {\"outlinewidth\": 0, \"ticks\": \"\"}, \"colorscale\": [[0.0, \"#0d0887\"], [0.1111111111111111, \"#46039f\"], [0.2222222222222222, \"#7201a8\"], [0.3333333333333333, \"#9c179e\"], [0.4444444444444444, \"#bd3786\"], [0.5555555555555556, \"#d8576b\"], [0.6666666666666666, \"#ed7953\"], [0.7777777777777778, \"#fb9f3a\"], [0.8888888888888888, \"#fdca26\"], [1.0, \"#f0f921\"]], \"type\": \"heatmapgl\"}], \"histogram\": [{\"marker\": {\"colorbar\": {\"outlinewidth\": 0, \"ticks\": \"\"}}, \"type\": \"histogram\"}], \"histogram2d\": [{\"colorbar\": {\"outlinewidth\": 0, \"ticks\": \"\"}, \"colorscale\": [[0.0, \"#0d0887\"], [0.1111111111111111, \"#46039f\"], [0.2222222222222222, \"#7201a8\"], [0.3333333333333333, \"#9c179e\"], [0.4444444444444444, \"#bd3786\"], [0.5555555555555556, \"#d8576b\"], [0.6666666666666666, \"#ed7953\"], [0.7777777777777778, \"#fb9f3a\"], [0.8888888888888888, \"#fdca26\"], [1.0, \"#f0f921\"]], \"type\": \"histogram2d\"}], \"histogram2dcontour\": [{\"colorbar\": {\"outlinewidth\": 0, \"ticks\": \"\"}, \"colorscale\": [[0.0, \"#0d0887\"], [0.1111111111111111, \"#46039f\"], [0.2222222222222222, \"#7201a8\"], [0.3333333333333333, \"#9c179e\"], [0.4444444444444444, \"#bd3786\"], [0.5555555555555556, \"#d8576b\"], [0.6666666666666666, \"#ed7953\"], [0.7777777777777778, \"#fb9f3a\"], [0.8888888888888888, \"#fdca26\"], [1.0, \"#f0f921\"]], \"type\": \"histogram2dcontour\"}], \"mesh3d\": [{\"colorbar\": {\"outlinewidth\": 0, \"ticks\": \"\"}, \"type\": \"mesh3d\"}], \"parcoords\": [{\"line\": {\"colorbar\": {\"outlinewidth\": 0, \"ticks\": \"\"}}, \"type\": \"parcoords\"}], \"pie\": [{\"automargin\": true, \"type\": \"pie\"}], \"scatter\": [{\"marker\": {\"colorbar\": {\"outlinewidth\": 0, \"ticks\": \"\"}}, \"type\": \"scatter\"}], \"scatter3d\": [{\"line\": {\"colorbar\": {\"outlinewidth\": 0, \"ticks\": \"\"}}, \"marker\": {\"colorbar\": {\"outlinewidth\": 0, \"ticks\": \"\"}}, \"type\": \"scatter3d\"}], \"scattercarpet\": [{\"marker\": {\"colorbar\": {\"outlinewidth\": 0, \"ticks\": \"\"}}, \"type\": \"scattercarpet\"}], \"scattergeo\": [{\"marker\": {\"colorbar\": {\"outlinewidth\": 0, \"ticks\": \"\"}}, \"type\": \"scattergeo\"}], \"scattergl\": [{\"marker\": {\"colorbar\": {\"outlinewidth\": 0, \"ticks\": \"\"}}, \"type\": \"scattergl\"}], \"scattermapbox\": [{\"marker\": {\"colorbar\": {\"outlinewidth\": 0, \"ticks\": \"\"}}, \"type\": \"scattermapbox\"}], \"scatterpolar\": [{\"marker\": {\"colorbar\": {\"outlinewidth\": 0, \"ticks\": \"\"}}, \"type\": \"scatterpolar\"}], \"scatterpolargl\": [{\"marker\": {\"colorbar\": {\"outlinewidth\": 0, \"ticks\": \"\"}}, \"type\": \"scatterpolargl\"}], \"scatterternary\": [{\"marker\": {\"colorbar\": {\"outlinewidth\": 0, \"ticks\": \"\"}}, \"type\": \"scatterternary\"}], \"surface\": [{\"colorbar\": {\"outlinewidth\": 0, \"ticks\": \"\"}, \"colorscale\": [[0.0, \"#0d0887\"], [0.1111111111111111, \"#46039f\"], [0.2222222222222222, \"#7201a8\"], [0.3333333333333333, \"#9c179e\"], [0.4444444444444444, \"#bd3786\"], [0.5555555555555556, \"#d8576b\"], [0.6666666666666666, \"#ed7953\"], [0.7777777777777778, \"#fb9f3a\"], [0.8888888888888888, \"#fdca26\"], [1.0, \"#f0f921\"]], \"type\": \"surface\"}], \"table\": [{\"cells\": {\"fill\": {\"color\": \"#EBF0F8\"}, \"line\": {\"color\": \"white\"}}, \"header\": {\"fill\": {\"color\": \"#C8D4E3\"}, \"line\": {\"color\": \"white\"}}, \"type\": \"table\"}]}, \"layout\": {\"annotationdefaults\": {\"arrowcolor\": \"#2a3f5f\", \"arrowhead\": 0, \"arrowwidth\": 1}, \"coloraxis\": {\"colorbar\": {\"outlinewidth\": 0, \"ticks\": \"\"}}, \"colorscale\": {\"diverging\": [[0, \"#8e0152\"], [0.1, \"#c51b7d\"], [0.2, \"#de77ae\"], [0.3, \"#f1b6da\"], [0.4, \"#fde0ef\"], [0.5, \"#f7f7f7\"], [0.6, \"#e6f5d0\"], [0.7, \"#b8e186\"], [0.8, \"#7fbc41\"], [0.9, \"#4d9221\"], [1, \"#276419\"]], \"sequential\": [[0.0, \"#0d0887\"], [0.1111111111111111, \"#46039f\"], [0.2222222222222222, \"#7201a8\"], [0.3333333333333333, \"#9c179e\"], [0.4444444444444444, \"#bd3786\"], [0.5555555555555556, \"#d8576b\"], [0.6666666666666666, \"#ed7953\"], [0.7777777777777778, \"#fb9f3a\"], [0.8888888888888888, \"#fdca26\"], [1.0, \"#f0f921\"]], \"sequentialminus\": [[0.0, \"#0d0887\"], [0.1111111111111111, \"#46039f\"], [0.2222222222222222, \"#7201a8\"], [0.3333333333333333, \"#9c179e\"], [0.4444444444444444, \"#bd3786\"], [0.5555555555555556, \"#d8576b\"], [0.6666666666666666, \"#ed7953\"], [0.7777777777777778, \"#fb9f3a\"], [0.8888888888888888, \"#fdca26\"], [1.0, \"#f0f921\"]]}, \"colorway\": [\"#636efa\", \"#EF553B\", \"#00cc96\", \"#ab63fa\", \"#FFA15A\", \"#19d3f3\", \"#FF6692\", \"#B6E880\", \"#FF97FF\", \"#FECB52\"], \"font\": {\"color\": \"#2a3f5f\"}, \"geo\": {\"bgcolor\": \"white\", \"lakecolor\": \"white\", \"landcolor\": \"#E5ECF6\", \"showlakes\": true, \"showland\": true, \"subunitcolor\": \"white\"}, \"hoverlabel\": {\"align\": \"left\"}, \"hovermode\": \"closest\", \"mapbox\": {\"style\": \"light\"}, \"paper_bgcolor\": \"white\", \"plot_bgcolor\": \"#E5ECF6\", \"polar\": {\"angularaxis\": {\"gridcolor\": \"white\", \"linecolor\": \"white\", \"ticks\": \"\"}, \"bgcolor\": \"#E5ECF6\", \"radialaxis\": {\"gridcolor\": \"white\", \"linecolor\": \"white\", \"ticks\": \"\"}}, \"scene\": {\"xaxis\": {\"backgroundcolor\": \"#E5ECF6\", \"gridcolor\": \"white\", \"gridwidth\": 2, \"linecolor\": \"white\", \"showbackground\": true, \"ticks\": \"\", \"zerolinecolor\": \"white\"}, \"yaxis\": {\"backgroundcolor\": \"#E5ECF6\", \"gridcolor\": \"white\", \"gridwidth\": 2, \"linecolor\": \"white\", \"showbackground\": true, \"ticks\": \"\", \"zerolinecolor\": \"white\"}, \"zaxis\": {\"backgroundcolor\": \"#E5ECF6\", \"gridcolor\": \"white\", \"gridwidth\": 2, \"linecolor\": \"white\", \"showbackground\": true, \"ticks\": \"\", \"zerolinecolor\": \"white\"}}, \"shapedefaults\": {\"line\": {\"color\": \"#2a3f5f\"}}, \"ternary\": {\"aaxis\": {\"gridcolor\": \"white\", \"linecolor\": \"white\", \"ticks\": \"\"}, \"baxis\": {\"gridcolor\": \"white\", \"linecolor\": \"white\", \"ticks\": \"\"}, \"bgcolor\": \"#E5ECF6\", \"caxis\": {\"gridcolor\": \"white\", \"linecolor\": \"white\", \"ticks\": \"\"}}, \"title\": {\"x\": 0.05}, \"xaxis\": {\"automargin\": true, \"gridcolor\": \"white\", \"linecolor\": \"white\", \"ticks\": \"\", \"title\": {\"standoff\": 15}, \"zerolinecolor\": \"white\", \"zerolinewidth\": 2}, \"yaxis\": {\"automargin\": true, \"gridcolor\": \"white\", \"linecolor\": \"white\", \"ticks\": \"\", \"title\": {\"standoff\": 15}, \"zerolinecolor\": \"white\", \"zerolinewidth\": 2}}}},\n",
              "                        {\"responsive\": true}\n",
              "                    ).then(function(){\n",
              "                            \n",
              "var gd = document.getElementById('d95aa7e9-33f7-4971-92ba-51446eab0900');\n",
              "var x = new MutationObserver(function (mutations, observer) {{\n",
              "        var display = window.getComputedStyle(gd).display;\n",
              "        if (!display || display === 'none') {{\n",
              "            console.log([gd, 'removed!']);\n",
              "            Plotly.purge(gd);\n",
              "            observer.disconnect();\n",
              "        }}\n",
              "}});\n",
              "\n",
              "// Listen for the removal of the full notebook cells\n",
              "var notebookContainer = gd.closest('#notebook-container');\n",
              "if (notebookContainer) {{\n",
              "    x.observe(notebookContainer, {childList: true});\n",
              "}}\n",
              "\n",
              "// Listen for the clearing of the current output cell\n",
              "var outputEl = gd.closest('.output');\n",
              "if (outputEl) {{\n",
              "    x.observe(outputEl, {childList: true});\n",
              "}}\n",
              "\n",
              "                        })\n",
              "                };\n",
              "                \n",
              "            </script>\n",
              "        </div>\n",
              "</body>\n",
              "</html>"
            ]
          },
          "metadata": {
            "tags": []
          }
        }
      ]
    },
    {
      "cell_type": "code",
      "metadata": {
        "colab": {
          "base_uri": "https://localhost:8080/"
        },
        "id": "QbBNMV--4FDJ",
        "outputId": "82053318-3510-476b-e575-3287f28cc1f8"
      },
      "source": [
        "pca.explained_variance_"
      ],
      "execution_count": null,
      "outputs": [
        {
          "output_type": "execute_result",
          "data": {
            "text/plain": [
              "array([13.07958081,  5.86288753,  2.94091922])"
            ]
          },
          "metadata": {
            "tags": []
          },
          "execution_count": 45
        }
      ]
    },
    {
      "cell_type": "code",
      "metadata": {
        "colab": {
          "base_uri": "https://localhost:8080/"
        },
        "id": "j3_2ORzh3cc7",
        "outputId": "26e696da-01d2-445b-e5bc-c7e2a88d6eca"
      },
      "source": [
        "pca.components_"
      ],
      "execution_count": null,
      "outputs": [
        {
          "output_type": "execute_result",
          "data": {
            "text/plain": [
              "array([[ 1.00000000e+00,  9.22073126e-17,  2.88147852e-17,\n",
              "        -4.61036563e-17, -1.15259141e-17, -5.76295704e-18,\n",
              "        -1.44073926e-17, -7.20369630e-18, -1.09496184e-16,\n",
              "        -2.30518282e-17, -3.45777422e-17,  1.44073926e-18,\n",
              "         8.64443556e-18, -1.44073926e-18,  4.32221778e-18,\n",
              "         5.76295704e-18,  1.62083167e-18,  1.98101648e-18,\n",
              "        -3.96203296e-18, -1.08055444e-18, -1.44073926e-18,\n",
              "         5.04258741e-18, -0.00000000e+00,  2.16110889e-18,\n",
              "         1.44073926e-18, -5.76295704e-18,  4.50231019e-19,\n",
              "         2.02603958e-19, -3.15161713e-19, -1.35069306e-19],\n",
              "       [-9.22073126e-17,  1.00000000e+00, -7.01157677e-16,\n",
              "         1.33753791e-16,  1.16705175e-16,  3.05970117e-17,\n",
              "         7.30230822e-17,  2.26337533e-17, -1.61118426e-16,\n",
              "        -1.63898314e-17,  5.86819798e-17, -7.10359015e-19,\n",
              "        -3.54871767e-17, -9.69798184e-18, -1.08046944e-17,\n",
              "        -9.78032996e-18, -6.65384562e-18, -8.13247798e-18,\n",
              "        -1.08227879e-18,  2.70117361e-18,  4.17980597e-18,\n",
              "        -2.07008530e-17,  5.40224001e-19, -1.93290026e-18,\n",
              "        -5.91452944e-18,  2.36581178e-17, -9.80928713e-19,\n",
              "         3.56310351e-20,  1.72748418e-18,  1.20806266e-19],\n",
              "       [-2.88147852e-17,  1.20177099e-16,  1.00000000e+00,\n",
              "        -4.41727714e-16,  1.27734685e-15,  1.70298088e-16,\n",
              "        -9.47485840e-17, -4.00620508e-18,  5.00971864e-16,\n",
              "         3.93446644e-17,  1.20039359e-16,  4.84984606e-17,\n",
              "        -1.38690244e-18,  2.02399572e-17,  3.64335747e-18,\n",
              "         2.30689824e-18, -7.76646422e-18,  1.06369285e-17,\n",
              "         1.03848464e-17,  1.90808628e-18, -3.39565021e-18,\n",
              "         7.56715709e-18,  1.22549423e-17, -1.35739921e-17,\n",
              "        -1.37347441e-17,  2.54486774e-17, -3.21905913e-18,\n",
              "         6.01285123e-19,  1.50572165e-18,  3.04388391e-18]])"
            ]
          },
          "metadata": {
            "tags": []
          },
          "execution_count": 46
        }
      ]
    },
    {
      "cell_type": "code",
      "metadata": {
        "colab": {
          "base_uri": "https://localhost:8080/"
        },
        "id": "lfR0GCUG4SOj",
        "outputId": "ef0fc59c-a14a-427c-ada2-0e92599b7c12"
      },
      "source": [
        "pca.components_.shape"
      ],
      "execution_count": null,
      "outputs": [
        {
          "output_type": "execute_result",
          "data": {
            "text/plain": [
              "(3, 30)"
            ]
          },
          "metadata": {
            "tags": []
          },
          "execution_count": 47
        }
      ]
    },
    {
      "cell_type": "code",
      "metadata": {
        "colab": {
          "base_uri": "https://localhost:8080/"
        },
        "id": "Ft6k25fx4bYg",
        "outputId": "cb2ad645-b7d2-4c78-891d-8b987fa4eb78"
      },
      "source": [
        "pca.explained_variance_ratio_"
      ],
      "execution_count": null,
      "outputs": [
        {
          "output_type": "execute_result",
          "data": {
            "text/plain": [
              "array([0.43502782, 0.19500007, 0.09781519])"
            ]
          },
          "metadata": {
            "tags": []
          },
          "execution_count": 48
        }
      ]
    },
    {
      "cell_type": "code",
      "metadata": {
        "id": "S-i1i0wS4oC3"
      },
      "source": [
        "pca= PCA(n_components=None)\n",
        "X_train_trf = pca.fit_transform(X_train)\n",
        "X_test_trf = pca.transform(X_test)"
      ],
      "execution_count": null,
      "outputs": []
    },
    {
      "cell_type": "code",
      "metadata": {
        "colab": {
          "base_uri": "https://localhost:8080/"
        },
        "id": "RBMoowuh468W",
        "outputId": "a41efb8a-6ddd-467c-bb2c-db81db496e3b"
      },
      "source": [
        "pca.explained_variance_.shape"
      ],
      "execution_count": null,
      "outputs": [
        {
          "output_type": "execute_result",
          "data": {
            "text/plain": [
              "(30,)"
            ]
          },
          "metadata": {
            "tags": []
          },
          "execution_count": 50
        }
      ]
    },
    {
      "cell_type": "code",
      "metadata": {
        "colab": {
          "base_uri": "https://localhost:8080/"
        },
        "id": "Z6o81eCk4_8r",
        "outputId": "eb506877-72a1-4163-9b1f-a9a8a79ccfd6"
      },
      "source": [
        "pca.components_.shape"
      ],
      "execution_count": null,
      "outputs": [
        {
          "output_type": "execute_result",
          "data": {
            "text/plain": [
              "(30, 30)"
            ]
          },
          "metadata": {
            "tags": []
          },
          "execution_count": 51
        }
      ]
    },
    {
      "cell_type": "code",
      "metadata": {
        "colab": {
          "base_uri": "https://localhost:8080/"
        },
        "id": "yMInZ6eu5LAb",
        "outputId": "7af853e5-d6c2-476d-f5eb-b3b22aaba96a"
      },
      "source": [
        "pca.explained_variance_ratio_"
      ],
      "execution_count": null,
      "outputs": [
        {
          "output_type": "execute_result",
          "data": {
            "text/plain": [
              "array([4.35027816e-01, 1.95000069e-01, 9.78151887e-02, 6.48640944e-02,\n",
              "       5.25337760e-02, 4.11279962e-02, 2.23559034e-02, 1.64795219e-02,\n",
              "       1.38005190e-02, 1.20526216e-02, 1.05656532e-02, 8.83487978e-03,\n",
              "       7.72384348e-03, 5.31689053e-03, 2.90035907e-03, 2.74863963e-03,\n",
              "       2.02120554e-03, 1.81312048e-03, 1.63703163e-03, 1.03921453e-03,\n",
              "       9.98523858e-04, 8.78835623e-04, 8.09819261e-04, 5.76666950e-04,\n",
              "       4.96295906e-04, 2.76290404e-04, 2.25813282e-04, 5.07660981e-05,\n",
              "       2.45885848e-05, 4.05623540e-06])"
            ]
          },
          "metadata": {
            "tags": []
          },
          "execution_count": 52
        }
      ]
    },
    {
      "cell_type": "code",
      "metadata": {
        "colab": {
          "base_uri": "https://localhost:8080/"
        },
        "id": "IDsx0Ybw5cON",
        "outputId": "7a44a2a9-44b2-4232-c409-9ab85a606616"
      },
      "source": [
        "import numpy as np\n",
        "np.cumsum(pca.explained_variance_ratio_)"
      ],
      "execution_count": null,
      "outputs": [
        {
          "output_type": "execute_result",
          "data": {
            "text/plain": [
              "array([0.43502782, 0.63002788, 0.72784307, 0.79270717, 0.84524094,\n",
              "       0.88636894, 0.90872484, 0.92520437, 0.93900488, 0.95105751,\n",
              "       0.96162316, 0.97045804, 0.97818188, 0.98349877, 0.98639913,\n",
              "       0.98914777, 0.99116898, 0.9929821 , 0.99461913, 0.99565834,\n",
              "       0.99665687, 0.9975357 , 0.99834552, 0.99892219, 0.99941849,\n",
              "       0.99969478, 0.99992059, 0.99997136, 0.99999594, 1.        ])"
            ]
          },
          "metadata": {
            "tags": []
          },
          "execution_count": 53
        }
      ]
    },
    {
      "cell_type": "code",
      "metadata": {
        "colab": {
          "base_uri": "https://localhost:8080/",
          "height": 281
        },
        "id": "kDl9602N5uzw",
        "outputId": "9197e2e9-7fac-4031-bd50-09adbb8e1f1f"
      },
      "source": [
        "plt.plot(np.cumsum(pca.explained_variance_ratio_))"
      ],
      "execution_count": null,
      "outputs": [
        {
          "output_type": "execute_result",
          "data": {
            "text/plain": [
              "[<matplotlib.lines.Line2D at 0x7f1a81c36050>]"
            ]
          },
          "metadata": {
            "tags": []
          },
          "execution_count": 54
        },
        {
          "output_type": "display_data",
          "data": {
            "image/png": "[encoded data removed]",
            "text/plain": [
              "<Figure size 432x288 with 1 Axes>"
            ]
          },
          "metadata": {
            "tags": [],
            "needs_background": "light"
          }
        }
      ]
    }
  ]
}